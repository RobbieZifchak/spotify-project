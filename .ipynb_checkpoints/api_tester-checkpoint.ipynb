{
 "cells": [
  {
   "cell_type": "code",
   "execution_count": 16,
   "metadata": {},
   "outputs": [],
   "source": [
    "import requests\n",
    "import json\n",
    "import base64"
   ]
  },
  {
   "cell_type": "code",
   "execution_count": 22,
   "metadata": {},
   "outputs": [],
   "source": [
    "url = 'https://api.spotify.com/v1/audio-features/06AKEBrKUckW0KREUWRnvT'\n",
    "\n",
    "# client_id = 'da2369703a6e4f2b83ed59a65455ea2d'\n",
    "# client_secret = 'b72ce17bf2374b8295ebe6f5f54d4b88'\n",
    "\n",
    "auth_token = 'BQBd4Nuidbd6wLu2Qr7SAQ-NEjO1O4T6_MwuvOjjKXvq2C4PrqpNJkuhJ7rxOQ0dLRFzQgvGQGJnyZgvH829OOJDwGZj8GU5PuUHJs3ZgfSN_3KQE0jRjVxCbfQ9DEnz7glN7HUkggIyjD0'\n",
    "\n",
    "#headers = {'Authorization' : 'Basic' client_id + ':' + client_secret}\n"
   ]
  },
  {
   "cell_type": "code",
   "execution_count": 23,
   "metadata": {},
   "outputs": [
    {
     "data": {
      "text/plain": [
       "<Response [401]>"
      ]
     },
     "execution_count": 23,
     "metadata": {},
     "output_type": "execute_result"
    }
   ],
   "source": [
    "requests.get(url, auth_token)"
   ]
  },
  {
   "cell_type": "code",
   "execution_count": null,
   "metadata": {},
   "outputs": [],
   "source": []
  },
  {
   "cell_type": "code",
   "execution_count": null,
   "metadata": {},
   "outputs": [],
   "source": []
  }
 ],
 "metadata": {
  "kernelspec": {
   "display_name": "Python 3",
   "language": "python",
   "name": "python3"
  },
  "language_info": {
   "codemirror_mode": {
    "name": "ipython",
    "version": 3
   },
   "file_extension": ".py",
   "mimetype": "text/x-python",
   "name": "python",
   "nbconvert_exporter": "python",
   "pygments_lexer": "ipython3",
   "version": "3.7.4"
  }
 },
 "nbformat": 4,
 "nbformat_minor": 4
}
