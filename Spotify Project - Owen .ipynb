{
 "cells": [
  {
   "cell_type": "code",
   "execution_count": 1,
   "metadata": {},
   "outputs": [
    {
     "name": "stdout",
     "output_type": "stream",
     "text": [
      "Requirement already satisfied: spotify in /Users/OwenPeng/opt/anaconda3/lib/python3.7/site-packages (0.8.3)\n",
      "Requirement already satisfied: aiohttp<4.0,>=3.6 in /Users/OwenPeng/opt/anaconda3/lib/python3.7/site-packages (from spotify) (3.6.2)\n",
      "Requirement already satisfied: attrs>=17.3.0 in /Users/OwenPeng/opt/anaconda3/lib/python3.7/site-packages (from aiohttp<4.0,>=3.6->spotify) (19.2.0)\n",
      "Requirement already satisfied: multidict<5.0,>=4.5 in /Users/OwenPeng/opt/anaconda3/lib/python3.7/site-packages (from aiohttp<4.0,>=3.6->spotify) (4.7.3)\n",
      "Requirement already satisfied: chardet<4.0,>=2.0 in /Users/OwenPeng/opt/anaconda3/lib/python3.7/site-packages (from aiohttp<4.0,>=3.6->spotify) (3.0.4)\n",
      "Requirement already satisfied: async-timeout<4.0,>=3.0 in /Users/OwenPeng/opt/anaconda3/lib/python3.7/site-packages (from aiohttp<4.0,>=3.6->spotify) (3.0.1)\n",
      "Requirement already satisfied: yarl<2.0,>=1.0 in /Users/OwenPeng/opt/anaconda3/lib/python3.7/site-packages (from aiohttp<4.0,>=3.6->spotify) (1.4.2)\n",
      "Requirement already satisfied: idna>=2.0 in /Users/OwenPeng/opt/anaconda3/lib/python3.7/site-packages (from yarl<2.0,>=1.0->aiohttp<4.0,>=3.6->spotify) (2.8)\n",
      "Note: you may need to restart the kernel to use updated packages.\n"
     ]
    }
   ],
   "source": [
    "pip install spotify"
   ]
  },
  {
   "cell_type": "code",
   "execution_count": 2,
   "metadata": {},
   "outputs": [],
   "source": [
    "import pandas as pd\n",
    "import requests\n",
    "import glob\n",
    "import spotipy"
   ]
  },
  {
   "cell_type": "code",
   "execution_count": 3,
   "metadata": {},
   "outputs": [],
   "source": [
    "path = \"/Users/OwenPeng/nyc-ds-111819-lectures/spotifycsvs/*.csv\"\n",
    "cap = glob.glob(path)"
   ]
  },
  {
   "cell_type": "code",
   "execution_count": 4,
   "metadata": {},
   "outputs": [
    {
     "data": {
      "text/plain": [
       "['/Users/OwenPeng/nyc-ds-111819-lectures/spotifycsvs/regional-global-weekly-2017-03-03--2017-03-10.csv',\n",
       " '/Users/OwenPeng/nyc-ds-111819-lectures/spotifycsvs/regional-global-weekly-2017-01-06--2017-01-13.csv',\n",
       " '/Users/OwenPeng/nyc-ds-111819-lectures/spotifycsvs/regional-global-weekly-2018-05-11--2018-05-18.csv',\n",
       " '/Users/OwenPeng/nyc-ds-111819-lectures/spotifycsvs/regional-global-weekly-2019-04-12--2019-04-19.csv',\n",
       " '/Users/OwenPeng/nyc-ds-111819-lectures/spotifycsvs/regional-global-weekly-2019-07-19--2019-07-26.csv',\n",
       " '/Users/OwenPeng/nyc-ds-111819-lectures/spotifycsvs/regional-global-weekly-2019-03-08--2019-03-15.csv',\n",
       " '/Users/OwenPeng/nyc-ds-111819-lectures/spotifycsvs/regional-global-weekly-2017-01-20--2017-01-27.csv',\n",
       " '/Users/OwenPeng/nyc-ds-111819-lectures/spotifycsvs/regional-global-weekly-2017-09-22--2017-09-29.csv',\n",
       " '/Users/OwenPeng/nyc-ds-111819-lectures/spotifycsvs/regional-global-weekly-2018-09-07--2018-09-14.csv',\n",
       " '/Users/OwenPeng/nyc-ds-111819-lectures/spotifycsvs/regional-global-weekly-2019-01-25--2019-02-01.csv',\n",
       " '/Users/OwenPeng/nyc-ds-111819-lectures/spotifycsvs/regional-global-weekly-2019-03-29--2019-04-05.csv',\n",
       " '/Users/OwenPeng/nyc-ds-111819-lectures/spotifycsvs/regional-global-weekly-2018-06-22--2018-06-29.csv',\n",
       " '/Users/OwenPeng/nyc-ds-111819-lectures/spotifycsvs/regional-global-weekly-2017-11-10--2017-11-17.csv',\n",
       " '/Users/OwenPeng/nyc-ds-111819-lectures/spotifycsvs/regional-global-weekly-2017-10-13--2017-10-20.csv',\n",
       " '/Users/OwenPeng/nyc-ds-111819-lectures/spotifycsvs/regional-global-weekly-2017-03-17--2017-03-24.csv',\n",
       " '/Users/OwenPeng/nyc-ds-111819-lectures/spotifycsvs/regional-global-weekly-2017-10-27--2017-11-03.csv',\n",
       " '/Users/OwenPeng/nyc-ds-111819-lectures/spotifycsvs/regional-global-weekly-2019-12-20--2019-12-27.csv',\n",
       " '/Users/OwenPeng/nyc-ds-111819-lectures/spotifycsvs/regional-global-weekly-2018-05-25--2018-06-01.csv',\n",
       " '/Users/OwenPeng/nyc-ds-111819-lectures/spotifycsvs/regional-global-weekly-2018-07-13--2018-07-20.csv',\n",
       " '/Users/OwenPeng/nyc-ds-111819-lectures/spotifycsvs/regional-global-weekly-2019-10-18--2019-10-25.csv',\n",
       " '/Users/OwenPeng/nyc-ds-111819-lectures/spotifycsvs/regional-global-weekly-2019-12-06--2019-12-13.csv',\n",
       " '/Users/OwenPeng/nyc-ds-111819-lectures/spotifycsvs/regional-global-weekly-2018-08-10--2018-08-17.csv',\n",
       " '/Users/OwenPeng/nyc-ds-111819-lectures/spotifycsvs/regional-global-weekly-2019-01-11--2019-01-18.csv',\n",
       " '/Users/OwenPeng/nyc-ds-111819-lectures/spotifycsvs/regional-global-weekly-2018-10-26--2018-11-02.csv',\n",
       " '/Users/OwenPeng/nyc-ds-111819-lectures/spotifycsvs/regional-global-weekly-2018-07-27--2018-08-03.csv',\n",
       " '/Users/OwenPeng/nyc-ds-111819-lectures/spotifycsvs/regional-global-weekly-2016-12-30--2017-01-06.csv',\n",
       " '/Users/OwenPeng/nyc-ds-111819-lectures/spotifycsvs/regional-global-weekly-2018-06-15--2018-06-22.csv',\n",
       " '/Users/OwenPeng/nyc-ds-111819-lectures/spotifycsvs/regional-global-weekly-2018-10-12--2018-10-19.csv',\n",
       " '/Users/OwenPeng/nyc-ds-111819-lectures/spotifycsvs/regional-global-weekly-2018-11-02--2018-11-09.csv',\n",
       " '/Users/OwenPeng/nyc-ds-111819-lectures/spotifycsvs/regional-global-weekly-2018-09-14--2018-09-21.csv',\n",
       " '/Users/OwenPeng/nyc-ds-111819-lectures/spotifycsvs/regional-global-weekly-2018-06-29--2018-07-06.csv',\n",
       " '/Users/OwenPeng/nyc-ds-111819-lectures/spotifycsvs/regional-global-weekly-2019-10-04--2019-10-11.csv',\n",
       " '/Users/OwenPeng/nyc-ds-111819-lectures/spotifycsvs/regional-global-weekly-2017-12-29--2018-01-05.csv',\n",
       " '/Users/OwenPeng/nyc-ds-111819-lectures/spotifycsvs/regional-global-weekly-2018-03-23--2018-03-30.csv',\n",
       " '/Users/OwenPeng/nyc-ds-111819-lectures/spotifycsvs/regional-global-weekly-2019-04-26--2019-05-03.csv',\n",
       " '/Users/OwenPeng/nyc-ds-111819-lectures/spotifycsvs/regional-global-weekly-2018-02-23--2018-03-02.csv',\n",
       " '/Users/OwenPeng/nyc-ds-111819-lectures/spotifycsvs/regional-global-weekly-2017-04-21--2017-04-28.csv',\n",
       " '/Users/OwenPeng/nyc-ds-111819-lectures/spotifycsvs/regional-global-weekly-2017-09-15--2017-09-22.csv',\n",
       " '/Users/OwenPeng/nyc-ds-111819-lectures/spotifycsvs/regional-global-weekly-2018-03-16--2018-03-23.csv',\n",
       " '/Users/OwenPeng/nyc-ds-111819-lectures/spotifycsvs/regional-global-weekly-2019-02-15--2019-02-22.csv',\n",
       " '/Users/OwenPeng/nyc-ds-111819-lectures/spotifycsvs/regional-global-weekly-2019-05-31--2019-06-07.csv',\n",
       " '/Users/OwenPeng/nyc-ds-111819-lectures/spotifycsvs/regional-global-weekly-2019-07-05--2019-07-12.csv',\n",
       " '/Users/OwenPeng/nyc-ds-111819-lectures/spotifycsvs/regional-global-weekly-2017-10-20--2017-10-27.csv',\n",
       " '/Users/OwenPeng/nyc-ds-111819-lectures/spotifycsvs/regional-global-weekly-2018-08-31--2018-09-07.csv',\n",
       " '/Users/OwenPeng/nyc-ds-111819-lectures/spotifycsvs/regional-global-weekly-2018-12-21--2018-12-28.csv',\n",
       " '/Users/OwenPeng/nyc-ds-111819-lectures/spotifycsvs/regional-global-weekly-2017-07-14--2017-07-21.csv',\n",
       " '/Users/OwenPeng/nyc-ds-111819-lectures/spotifycsvs/regional-global-weekly-2018-07-20--2018-07-27.csv',\n",
       " '/Users/OwenPeng/nyc-ds-111819-lectures/spotifycsvs/regional-global-weekly-2019-12-13--2019-12-20.csv',\n",
       " '/Users/OwenPeng/nyc-ds-111819-lectures/spotifycsvs/regional-global-weekly-2017-10-06--2017-10-13.csv',\n",
       " '/Users/OwenPeng/nyc-ds-111819-lectures/spotifycsvs/regional-global-weekly-2018-05-18--2018-05-25.csv',\n",
       " '/Users/OwenPeng/nyc-ds-111819-lectures/spotifycsvs/regional-global-weekly-2019-03-15--2019-03-22.csv',\n",
       " '/Users/OwenPeng/nyc-ds-111819-lectures/spotifycsvs/regional-global-weekly-2018-02-16--2018-02-23.csv',\n",
       " '/Users/OwenPeng/nyc-ds-111819-lectures/spotifycsvs/regional-global-weekly-2018-07-06--2018-07-13.csv',\n",
       " '/Users/OwenPeng/nyc-ds-111819-lectures/spotifycsvs/regional-global-weekly-2017-06-30--2017-07-07.csv',\n",
       " '/Users/OwenPeng/nyc-ds-111819-lectures/spotifycsvs/regional-global-weekly-2019-05-10--2019-05-17.csv',\n",
       " '/Users/OwenPeng/nyc-ds-111819-lectures/spotifycsvs/regional-global-weekly-2019-01-18--2019-01-25.csv',\n",
       " '/Users/OwenPeng/nyc-ds-111819-lectures/spotifycsvs/regional-global-weekly-2019-08-23--2019-08-30.csv',\n",
       " '/Users/OwenPeng/nyc-ds-111819-lectures/spotifycsvs/regional-global-weekly-2019-11-01--2019-11-08.csv',\n",
       " '/Users/OwenPeng/nyc-ds-111819-lectures/spotifycsvs/regional-global-weekly-2019-10-11--2019-10-18.csv',\n",
       " '/Users/OwenPeng/nyc-ds-111819-lectures/spotifycsvs/regional-global-weekly-2019-08-16--2019-08-23.csv',\n",
       " '/Users/OwenPeng/nyc-ds-111819-lectures/spotifycsvs/regional-global-weekly-2017-01-13--2017-01-20.csv',\n",
       " '/Users/OwenPeng/nyc-ds-111819-lectures/spotifycsvs/regional-global-weekly-2017-05-19--2017-05-26.csv',\n",
       " '/Users/OwenPeng/nyc-ds-111819-lectures/spotifycsvs/regional-global-weekly-2018-06-08--2018-06-15.csv',\n",
       " '/Users/OwenPeng/nyc-ds-111819-lectures/spotifycsvs/regional-global-weekly-2017-02-17--2017-02-24.csv',\n",
       " '/Users/OwenPeng/nyc-ds-111819-lectures/spotifycsvs/regional-global-weekly-2019-06-21--2019-06-28.csv',\n",
       " '/Users/OwenPeng/nyc-ds-111819-lectures/spotifycsvs/regional-global-weekly-2017-03-24--2017-03-31.csv',\n",
       " '/Users/OwenPeng/nyc-ds-111819-lectures/spotifycsvs/regional-global-weekly-2018-01-26--2018-02-02.csv',\n",
       " '/Users/OwenPeng/nyc-ds-111819-lectures/spotifycsvs/regional-global-weekly-2019-01-04--2019-01-11.csv',\n",
       " '/Users/OwenPeng/nyc-ds-111819-lectures/spotifycsvs/regional-global-weekly-2017-02-24--2017-03-03.csv',\n",
       " '/Users/OwenPeng/nyc-ds-111819-lectures/spotifycsvs/regional-global-weekly-2017-07-07--2017-07-14.csv',\n",
       " '/Users/OwenPeng/nyc-ds-111819-lectures/spotifycsvs/regional-global-weekly-2017-01-27--2017-02-03.csv',\n",
       " '/Users/OwenPeng/nyc-ds-111819-lectures/spotifycsvs/regional-global-weekly-2017-05-05--2017-05-12.csv',\n",
       " '/Users/OwenPeng/nyc-ds-111819-lectures/spotifycsvs/regional-global-weekly-2017-09-29--2017-10-06.csv',\n",
       " '/Users/OwenPeng/nyc-ds-111819-lectures/spotifycsvs/regional-global-weekly-2018-01-12--2018-01-19.csv',\n",
       " '/Users/OwenPeng/nyc-ds-111819-lectures/spotifycsvs/regional-global-weekly-2018-11-09--2018-11-16.csv',\n",
       " '/Users/OwenPeng/nyc-ds-111819-lectures/spotifycsvs/regional-global-weekly-2017-12-01--2017-12-08.csv',\n",
       " '/Users/OwenPeng/nyc-ds-111819-lectures/spotifycsvs/regional-global-weekly-2019-10-25--2019-11-01.csv',\n",
       " '/Users/OwenPeng/nyc-ds-111819-lectures/spotifycsvs/regional-global-weekly-2017-02-03--2017-02-10.csv',\n",
       " '/Users/OwenPeng/nyc-ds-111819-lectures/spotifycsvs/regional-global-weekly-2017-06-09--2017-06-16.csv',\n",
       " '/Users/OwenPeng/nyc-ds-111819-lectures/spotifycsvs/regional-global-weekly-2017-07-28--2017-08-04.csv',\n",
       " '/Users/OwenPeng/nyc-ds-111819-lectures/spotifycsvs/regional-global-weekly-2019-03-22--2019-03-29.csv',\n",
       " '/Users/OwenPeng/nyc-ds-111819-lectures/spotifycsvs/regional-global-weekly-2018-09-28--2018-10-05.csv',\n",
       " '/Users/OwenPeng/nyc-ds-111819-lectures/spotifycsvs/regional-global-weekly-2017-09-08--2017-09-15.csv',\n",
       " '/Users/OwenPeng/nyc-ds-111819-lectures/spotifycsvs/regional-global-weekly-2019-02-08--2019-02-15.csv',\n",
       " '/Users/OwenPeng/nyc-ds-111819-lectures/spotifycsvs/regional-global-weekly-2018-05-04--2018-05-11.csv',\n",
       " '/Users/OwenPeng/nyc-ds-111819-lectures/spotifycsvs/regional-global-weekly-2018-11-30--2018-12-07.csv',\n",
       " '/Users/OwenPeng/nyc-ds-111819-lectures/spotifycsvs/regional-global-weekly-2017-08-04--2017-08-11.csv',\n",
       " '/Users/OwenPeng/nyc-ds-111819-lectures/spotifycsvs/regional-global-weekly-2018-04-13--2018-04-20.csv',\n",
       " '/Users/OwenPeng/nyc-ds-111819-lectures/spotifycsvs/regional-global-weekly-2017-12-22--2017-12-29.csv',\n",
       " '/Users/OwenPeng/nyc-ds-111819-lectures/spotifycsvs/regional-global-weekly-2018-12-07--2018-12-14.csv',\n",
       " '/Users/OwenPeng/nyc-ds-111819-lectures/spotifycsvs/regional-global-weekly-2019-06-14--2019-06-21.csv',\n",
       " '/Users/OwenPeng/nyc-ds-111819-lectures/spotifycsvs/regional-global-weekly-2018-02-02--2018-02-09.csv',\n",
       " '/Users/OwenPeng/nyc-ds-111819-lectures/spotifycsvs/regional-global-weekly-2019-03-01--2019-03-08.csv',\n",
       " '/Users/OwenPeng/nyc-ds-111819-lectures/spotifycsvs/regional-global-weekly-2019-06-28--2019-07-05.csv',\n",
       " '/Users/OwenPeng/nyc-ds-111819-lectures/spotifycsvs/regional-global-weekly-2018-10-05--2018-10-12.csv',\n",
       " '/Users/OwenPeng/nyc-ds-111819-lectures/spotifycsvs/regional-global-weekly-2019-05-17--2019-05-24.csv',\n",
       " '/Users/OwenPeng/nyc-ds-111819-lectures/spotifycsvs/regional-global-weekly-2019-02-22--2019-03-01.csv',\n",
       " '/Users/OwenPeng/nyc-ds-111819-lectures/spotifycsvs/regional-global-weekly-2019-07-12--2019-07-19.csv',\n",
       " '/Users/OwenPeng/nyc-ds-111819-lectures/spotifycsvs/regional-global-weekly-2019-09-06--2019-09-13.csv',\n",
       " '/Users/OwenPeng/nyc-ds-111819-lectures/spotifycsvs/regional-global-weekly-2019-11-15--2019-11-22.csv',\n",
       " '/Users/OwenPeng/nyc-ds-111819-lectures/spotifycsvs/regional-global-weekly-2019-08-02--2019-08-09.csv',\n",
       " '/Users/OwenPeng/nyc-ds-111819-lectures/spotifycsvs/regional-global-weekly-2019-07-26--2019-08-02.csv',\n",
       " '/Users/OwenPeng/nyc-ds-111819-lectures/spotifycsvs/regional-global-weekly-2019-09-20--2019-09-27.csv',\n",
       " '/Users/OwenPeng/nyc-ds-111819-lectures/spotifycsvs/regional-global-weekly-2019-05-03--2019-05-10.csv',\n",
       " '/Users/OwenPeng/nyc-ds-111819-lectures/spotifycsvs/regional-global-weekly-2019-04-19--2019-04-26.csv',\n",
       " '/Users/OwenPeng/nyc-ds-111819-lectures/spotifycsvs/regional-global-weekly-2017-07-21--2017-07-28.csv',\n",
       " '/Users/OwenPeng/nyc-ds-111819-lectures/spotifycsvs/regional-global-weekly-2019-06-07--2019-06-14.csv',\n",
       " '/Users/OwenPeng/nyc-ds-111819-lectures/spotifycsvs/regional-global-weekly-2018-12-14--2018-12-21.csv',\n",
       " '/Users/OwenPeng/nyc-ds-111819-lectures/spotifycsvs/regional-global-weekly-2019-11-22--2019-11-29.csv',\n",
       " '/Users/OwenPeng/nyc-ds-111819-lectures/spotifycsvs/regional-global-weekly-2019-04-05--2019-04-12.csv',\n",
       " '/Users/OwenPeng/nyc-ds-111819-lectures/spotifycsvs/regional-global-weekly-2018-04-27--2018-05-04.csv',\n",
       " '/Users/OwenPeng/nyc-ds-111819-lectures/spotifycsvs/regional-global-weekly-2018-03-09--2018-03-16.csv',\n",
       " '/Users/OwenPeng/nyc-ds-111819-lectures/spotifycsvs/regional-global-weekly-2019-11-29--2019-12-06.csv',\n",
       " '/Users/OwenPeng/nyc-ds-111819-lectures/spotifycsvs/regional-global-weekly-2017-12-15--2017-12-22.csv',\n",
       " '/Users/OwenPeng/nyc-ds-111819-lectures/spotifycsvs/regional-global-weekly-2018-08-24--2018-08-31.csv',\n",
       " '/Users/OwenPeng/nyc-ds-111819-lectures/spotifycsvs/regional-global-weekly-2017-08-18--2017-08-25.csv',\n",
       " '/Users/OwenPeng/nyc-ds-111819-lectures/spotifycsvs/regional-global-weekly-2018-10-19--2018-10-26.csv',\n",
       " '/Users/OwenPeng/nyc-ds-111819-lectures/spotifycsvs/regional-global-weekly-2019-09-27--2019-10-04.csv',\n",
       " '/Users/OwenPeng/nyc-ds-111819-lectures/spotifycsvs/regional-global-weekly-2017-02-10--2017-02-17.csv',\n",
       " '/Users/OwenPeng/nyc-ds-111819-lectures/spotifycsvs/regional-global-weekly-2018-03-30--2018-04-06.csv',\n",
       " '/Users/OwenPeng/nyc-ds-111819-lectures/spotifycsvs/regional-global-weekly-2018-01-05--2018-01-12.csv',\n",
       " '/Users/OwenPeng/nyc-ds-111819-lectures/spotifycsvs/regional-global-weekly-2018-08-17--2018-08-24.csv',\n",
       " '/Users/OwenPeng/nyc-ds-111819-lectures/spotifycsvs/regional-global-weekly-2017-05-12--2017-05-19.csv',\n",
       " '/Users/OwenPeng/nyc-ds-111819-lectures/spotifycsvs/regional-global-weekly-2016-12-23--2016-12-30.csv',\n",
       " '/Users/OwenPeng/nyc-ds-111819-lectures/spotifycsvs/regional-global-weekly-2018-09-21--2018-09-28.csv',\n",
       " '/Users/OwenPeng/nyc-ds-111819-lectures/spotifycsvs/regional-global-weekly-2017-03-31--2017-04-07.csv',\n",
       " '/Users/OwenPeng/nyc-ds-111819-lectures/spotifycsvs/regional-global-weekly-2019-08-09--2019-08-16.csv',\n",
       " '/Users/OwenPeng/nyc-ds-111819-lectures/spotifycsvs/regional-global-weekly-2017-03-10--2017-03-17.csv',\n",
       " '/Users/OwenPeng/nyc-ds-111819-lectures/spotifycsvs/regional-global-weekly-2019-09-13--2019-09-20.csv',\n",
       " '/Users/OwenPeng/nyc-ds-111819-lectures/spotifycsvs/regional-global-weekly-2017-11-17--2017-11-24.csv',\n",
       " '/Users/OwenPeng/nyc-ds-111819-lectures/spotifycsvs/regional-global-weekly-2018-08-03--2018-08-10.csv',\n",
       " '/Users/OwenPeng/nyc-ds-111819-lectures/spotifycsvs/regional-global-weekly-2017-04-14--2017-04-21.csv',\n",
       " '/Users/OwenPeng/nyc-ds-111819-lectures/spotifycsvs/regional-global-weekly-2018-04-20--2018-04-27.csv',\n",
       " '/Users/OwenPeng/nyc-ds-111819-lectures/spotifycsvs/regional-global-weekly-2019-11-08--2019-11-15.csv',\n",
       " '/Users/OwenPeng/nyc-ds-111819-lectures/spotifycsvs/regional-global-weekly-2018-04-06--2018-04-13.csv',\n",
       " '/Users/OwenPeng/nyc-ds-111819-lectures/spotifycsvs/regional-global-weekly-2017-08-25--2017-09-01.csv',\n",
       " '/Users/OwenPeng/nyc-ds-111819-lectures/spotifycsvs/regional-global-weekly-2017-11-03--2017-11-10.csv',\n",
       " '/Users/OwenPeng/nyc-ds-111819-lectures/spotifycsvs/regional-global-weekly-2017-04-28--2017-05-05.csv',\n",
       " '/Users/OwenPeng/nyc-ds-111819-lectures/spotifycsvs/regional-global-weekly-2018-02-09--2018-02-16.csv',\n",
       " '/Users/OwenPeng/nyc-ds-111819-lectures/spotifycsvs/regional-global-weekly-2018-06-01--2018-06-08.csv',\n",
       " '/Users/OwenPeng/nyc-ds-111819-lectures/spotifycsvs/regional-global-weekly-2017-06-16--2017-06-23.csv',\n",
       " '/Users/OwenPeng/nyc-ds-111819-lectures/spotifycsvs/regional-global-weekly-2017-11-24--2017-12-01.csv',\n",
       " '/Users/OwenPeng/nyc-ds-111819-lectures/spotifycsvs/regional-global-weekly-2018-11-16--2018-11-23.csv',\n",
       " '/Users/OwenPeng/nyc-ds-111819-lectures/spotifycsvs/regional-global-weekly-2018-12-28--2019-01-04.csv',\n",
       " '/Users/OwenPeng/nyc-ds-111819-lectures/spotifycsvs/regional-global-weekly-2017-06-23--2017-06-30.csv',\n",
       " '/Users/OwenPeng/nyc-ds-111819-lectures/spotifycsvs/regional-global-weekly-2018-11-23--2018-11-30.csv',\n",
       " '/Users/OwenPeng/nyc-ds-111819-lectures/spotifycsvs/regional-global-weekly-2017-04-07--2017-04-14.csv',\n",
       " '/Users/OwenPeng/nyc-ds-111819-lectures/spotifycsvs/regional-global-weekly-2017-12-08--2017-12-15.csv',\n",
       " '/Users/OwenPeng/nyc-ds-111819-lectures/spotifycsvs/regional-global-weekly-2018-01-19--2018-01-26.csv',\n",
       " '/Users/OwenPeng/nyc-ds-111819-lectures/spotifycsvs/regional-global-weekly-2017-08-11--2017-08-18.csv',\n",
       " '/Users/OwenPeng/nyc-ds-111819-lectures/spotifycsvs/regional-global-weekly-2019-02-01--2019-02-08.csv',\n",
       " '/Users/OwenPeng/nyc-ds-111819-lectures/spotifycsvs/regional-global-weekly-2017-09-01--2017-09-08.csv',\n",
       " '/Users/OwenPeng/nyc-ds-111819-lectures/spotifycsvs/regional-global-weekly-2018-03-02--2018-03-09.csv',\n",
       " '/Users/OwenPeng/nyc-ds-111819-lectures/spotifycsvs/regional-global-weekly-2019-08-30--2019-09-06.csv',\n",
       " '/Users/OwenPeng/nyc-ds-111819-lectures/spotifycsvs/regional-global-weekly-2019-05-24--2019-05-31.csv']"
      ]
     },
     "execution_count": 4,
     "metadata": {},
     "output_type": "execute_result"
    }
   ],
   "source": [
    "cap"
   ]
  },
  {
   "cell_type": "code",
   "execution_count": null,
   "metadata": {},
   "outputs": [],
   "source": []
  },
  {
   "cell_type": "code",
   "execution_count": 5,
   "metadata": {},
   "outputs": [],
   "source": [
    "charts = [i.replace('/Users/OwenPeng/nyc-ds-111819-lectures/spotifycsvs/',\"\") for i in cap]"
   ]
  },
  {
   "cell_type": "code",
   "execution_count": 6,
   "metadata": {},
   "outputs": [
    {
     "name": "stdout",
     "output_type": "stream",
     "text": [
      "/Users/OwenPeng/nyc-ds-111819-lectures/spotifycsvs\n"
     ]
    }
   ],
   "source": [
    "cd spotifycsvs"
   ]
  },
  {
   "cell_type": "code",
   "execution_count": 7,
   "metadata": {},
   "outputs": [
    {
     "data": {
      "text/plain": [
       "['regional-global-weekly-2017-03-03--2017-03-10.csv',\n",
       " 'regional-global-weekly-2017-01-06--2017-01-13.csv',\n",
       " 'regional-global-weekly-2018-05-11--2018-05-18.csv',\n",
       " 'regional-global-weekly-2019-04-12--2019-04-19.csv',\n",
       " 'regional-global-weekly-2019-07-19--2019-07-26.csv',\n",
       " 'regional-global-weekly-2019-03-08--2019-03-15.csv',\n",
       " 'regional-global-weekly-2017-01-20--2017-01-27.csv',\n",
       " 'regional-global-weekly-2017-09-22--2017-09-29.csv',\n",
       " 'regional-global-weekly-2018-09-07--2018-09-14.csv',\n",
       " 'regional-global-weekly-2019-01-25--2019-02-01.csv',\n",
       " 'regional-global-weekly-2019-03-29--2019-04-05.csv',\n",
       " 'regional-global-weekly-2018-06-22--2018-06-29.csv',\n",
       " 'regional-global-weekly-2017-11-10--2017-11-17.csv',\n",
       " 'regional-global-weekly-2017-10-13--2017-10-20.csv',\n",
       " 'regional-global-weekly-2017-03-17--2017-03-24.csv',\n",
       " 'regional-global-weekly-2017-10-27--2017-11-03.csv',\n",
       " 'regional-global-weekly-2019-12-20--2019-12-27.csv',\n",
       " 'regional-global-weekly-2018-05-25--2018-06-01.csv',\n",
       " 'regional-global-weekly-2018-07-13--2018-07-20.csv',\n",
       " 'regional-global-weekly-2019-10-18--2019-10-25.csv',\n",
       " 'regional-global-weekly-2019-12-06--2019-12-13.csv',\n",
       " 'regional-global-weekly-2018-08-10--2018-08-17.csv',\n",
       " 'regional-global-weekly-2019-01-11--2019-01-18.csv',\n",
       " 'regional-global-weekly-2018-10-26--2018-11-02.csv',\n",
       " 'regional-global-weekly-2018-07-27--2018-08-03.csv',\n",
       " 'regional-global-weekly-2016-12-30--2017-01-06.csv',\n",
       " 'regional-global-weekly-2018-06-15--2018-06-22.csv',\n",
       " 'regional-global-weekly-2018-10-12--2018-10-19.csv',\n",
       " 'regional-global-weekly-2018-11-02--2018-11-09.csv',\n",
       " 'regional-global-weekly-2018-09-14--2018-09-21.csv',\n",
       " 'regional-global-weekly-2018-06-29--2018-07-06.csv',\n",
       " 'regional-global-weekly-2019-10-04--2019-10-11.csv',\n",
       " 'regional-global-weekly-2017-12-29--2018-01-05.csv',\n",
       " 'regional-global-weekly-2018-03-23--2018-03-30.csv',\n",
       " 'regional-global-weekly-2019-04-26--2019-05-03.csv',\n",
       " 'regional-global-weekly-2018-02-23--2018-03-02.csv',\n",
       " 'regional-global-weekly-2017-04-21--2017-04-28.csv',\n",
       " 'regional-global-weekly-2017-09-15--2017-09-22.csv',\n",
       " 'regional-global-weekly-2018-03-16--2018-03-23.csv',\n",
       " 'regional-global-weekly-2019-02-15--2019-02-22.csv',\n",
       " 'regional-global-weekly-2019-05-31--2019-06-07.csv',\n",
       " 'regional-global-weekly-2019-07-05--2019-07-12.csv',\n",
       " 'regional-global-weekly-2017-10-20--2017-10-27.csv',\n",
       " 'regional-global-weekly-2018-08-31--2018-09-07.csv',\n",
       " 'regional-global-weekly-2018-12-21--2018-12-28.csv',\n",
       " 'regional-global-weekly-2017-07-14--2017-07-21.csv',\n",
       " 'regional-global-weekly-2018-07-20--2018-07-27.csv',\n",
       " 'regional-global-weekly-2019-12-13--2019-12-20.csv',\n",
       " 'regional-global-weekly-2017-10-06--2017-10-13.csv',\n",
       " 'regional-global-weekly-2018-05-18--2018-05-25.csv',\n",
       " 'regional-global-weekly-2019-03-15--2019-03-22.csv',\n",
       " 'regional-global-weekly-2018-02-16--2018-02-23.csv',\n",
       " 'regional-global-weekly-2018-07-06--2018-07-13.csv',\n",
       " 'regional-global-weekly-2017-06-30--2017-07-07.csv',\n",
       " 'regional-global-weekly-2019-05-10--2019-05-17.csv',\n",
       " 'regional-global-weekly-2019-01-18--2019-01-25.csv',\n",
       " 'regional-global-weekly-2019-08-23--2019-08-30.csv',\n",
       " 'regional-global-weekly-2019-11-01--2019-11-08.csv',\n",
       " 'regional-global-weekly-2019-10-11--2019-10-18.csv',\n",
       " 'regional-global-weekly-2019-08-16--2019-08-23.csv',\n",
       " 'regional-global-weekly-2017-01-13--2017-01-20.csv',\n",
       " 'regional-global-weekly-2017-05-19--2017-05-26.csv',\n",
       " 'regional-global-weekly-2018-06-08--2018-06-15.csv',\n",
       " 'regional-global-weekly-2017-02-17--2017-02-24.csv',\n",
       " 'regional-global-weekly-2019-06-21--2019-06-28.csv',\n",
       " 'regional-global-weekly-2017-03-24--2017-03-31.csv',\n",
       " 'regional-global-weekly-2018-01-26--2018-02-02.csv',\n",
       " 'regional-global-weekly-2019-01-04--2019-01-11.csv',\n",
       " 'regional-global-weekly-2017-02-24--2017-03-03.csv',\n",
       " 'regional-global-weekly-2017-07-07--2017-07-14.csv',\n",
       " 'regional-global-weekly-2017-01-27--2017-02-03.csv',\n",
       " 'regional-global-weekly-2017-05-05--2017-05-12.csv',\n",
       " 'regional-global-weekly-2017-09-29--2017-10-06.csv',\n",
       " 'regional-global-weekly-2018-01-12--2018-01-19.csv',\n",
       " 'regional-global-weekly-2018-11-09--2018-11-16.csv',\n",
       " 'regional-global-weekly-2017-12-01--2017-12-08.csv',\n",
       " 'regional-global-weekly-2019-10-25--2019-11-01.csv',\n",
       " 'regional-global-weekly-2017-02-03--2017-02-10.csv',\n",
       " 'regional-global-weekly-2017-06-09--2017-06-16.csv',\n",
       " 'regional-global-weekly-2017-07-28--2017-08-04.csv',\n",
       " 'regional-global-weekly-2019-03-22--2019-03-29.csv',\n",
       " 'regional-global-weekly-2018-09-28--2018-10-05.csv',\n",
       " 'regional-global-weekly-2017-09-08--2017-09-15.csv',\n",
       " 'regional-global-weekly-2019-02-08--2019-02-15.csv',\n",
       " 'regional-global-weekly-2018-05-04--2018-05-11.csv',\n",
       " 'regional-global-weekly-2018-11-30--2018-12-07.csv',\n",
       " 'regional-global-weekly-2017-08-04--2017-08-11.csv',\n",
       " 'regional-global-weekly-2018-04-13--2018-04-20.csv',\n",
       " 'regional-global-weekly-2017-12-22--2017-12-29.csv',\n",
       " 'regional-global-weekly-2018-12-07--2018-12-14.csv',\n",
       " 'regional-global-weekly-2019-06-14--2019-06-21.csv',\n",
       " 'regional-global-weekly-2018-02-02--2018-02-09.csv',\n",
       " 'regional-global-weekly-2019-03-01--2019-03-08.csv',\n",
       " 'regional-global-weekly-2019-06-28--2019-07-05.csv',\n",
       " 'regional-global-weekly-2018-10-05--2018-10-12.csv',\n",
       " 'regional-global-weekly-2019-05-17--2019-05-24.csv',\n",
       " 'regional-global-weekly-2019-02-22--2019-03-01.csv',\n",
       " 'regional-global-weekly-2019-07-12--2019-07-19.csv',\n",
       " 'regional-global-weekly-2019-09-06--2019-09-13.csv',\n",
       " 'regional-global-weekly-2019-11-15--2019-11-22.csv',\n",
       " 'regional-global-weekly-2019-08-02--2019-08-09.csv',\n",
       " 'regional-global-weekly-2019-07-26--2019-08-02.csv',\n",
       " 'regional-global-weekly-2019-09-20--2019-09-27.csv',\n",
       " 'regional-global-weekly-2019-05-03--2019-05-10.csv',\n",
       " 'regional-global-weekly-2019-04-19--2019-04-26.csv',\n",
       " 'regional-global-weekly-2017-07-21--2017-07-28.csv',\n",
       " 'regional-global-weekly-2019-06-07--2019-06-14.csv',\n",
       " 'regional-global-weekly-2018-12-14--2018-12-21.csv',\n",
       " 'regional-global-weekly-2019-11-22--2019-11-29.csv',\n",
       " 'regional-global-weekly-2019-04-05--2019-04-12.csv',\n",
       " 'regional-global-weekly-2018-04-27--2018-05-04.csv',\n",
       " 'regional-global-weekly-2018-03-09--2018-03-16.csv',\n",
       " 'regional-global-weekly-2019-11-29--2019-12-06.csv',\n",
       " 'regional-global-weekly-2017-12-15--2017-12-22.csv',\n",
       " 'regional-global-weekly-2018-08-24--2018-08-31.csv',\n",
       " 'regional-global-weekly-2017-08-18--2017-08-25.csv',\n",
       " 'regional-global-weekly-2018-10-19--2018-10-26.csv',\n",
       " 'regional-global-weekly-2019-09-27--2019-10-04.csv',\n",
       " 'regional-global-weekly-2017-02-10--2017-02-17.csv',\n",
       " 'regional-global-weekly-2018-03-30--2018-04-06.csv',\n",
       " 'regional-global-weekly-2018-01-05--2018-01-12.csv',\n",
       " 'regional-global-weekly-2018-08-17--2018-08-24.csv',\n",
       " 'regional-global-weekly-2017-05-12--2017-05-19.csv',\n",
       " 'regional-global-weekly-2016-12-23--2016-12-30.csv',\n",
       " 'regional-global-weekly-2018-09-21--2018-09-28.csv',\n",
       " 'regional-global-weekly-2017-03-31--2017-04-07.csv',\n",
       " 'regional-global-weekly-2019-08-09--2019-08-16.csv',\n",
       " 'regional-global-weekly-2017-03-10--2017-03-17.csv',\n",
       " 'regional-global-weekly-2019-09-13--2019-09-20.csv',\n",
       " 'regional-global-weekly-2017-11-17--2017-11-24.csv',\n",
       " 'regional-global-weekly-2018-08-03--2018-08-10.csv',\n",
       " 'regional-global-weekly-2017-04-14--2017-04-21.csv',\n",
       " 'regional-global-weekly-2018-04-20--2018-04-27.csv',\n",
       " 'regional-global-weekly-2019-11-08--2019-11-15.csv',\n",
       " 'regional-global-weekly-2018-04-06--2018-04-13.csv',\n",
       " 'regional-global-weekly-2017-08-25--2017-09-01.csv',\n",
       " 'regional-global-weekly-2017-11-03--2017-11-10.csv',\n",
       " 'regional-global-weekly-2017-04-28--2017-05-05.csv',\n",
       " 'regional-global-weekly-2018-02-09--2018-02-16.csv',\n",
       " 'regional-global-weekly-2018-06-01--2018-06-08.csv',\n",
       " 'regional-global-weekly-2017-06-16--2017-06-23.csv',\n",
       " 'regional-global-weekly-2017-11-24--2017-12-01.csv',\n",
       " 'regional-global-weekly-2018-11-16--2018-11-23.csv',\n",
       " 'regional-global-weekly-2018-12-28--2019-01-04.csv',\n",
       " 'regional-global-weekly-2017-06-23--2017-06-30.csv',\n",
       " 'regional-global-weekly-2018-11-23--2018-11-30.csv',\n",
       " 'regional-global-weekly-2017-04-07--2017-04-14.csv',\n",
       " 'regional-global-weekly-2017-12-08--2017-12-15.csv',\n",
       " 'regional-global-weekly-2018-01-19--2018-01-26.csv',\n",
       " 'regional-global-weekly-2017-08-11--2017-08-18.csv',\n",
       " 'regional-global-weekly-2019-02-01--2019-02-08.csv',\n",
       " 'regional-global-weekly-2017-09-01--2017-09-08.csv',\n",
       " 'regional-global-weekly-2018-03-02--2018-03-09.csv',\n",
       " 'regional-global-weekly-2019-08-30--2019-09-06.csv',\n",
       " 'regional-global-weekly-2019-05-24--2019-05-31.csv']"
      ]
     },
     "execution_count": 7,
     "metadata": {},
     "output_type": "execute_result"
    }
   ],
   "source": [
    "charts"
   ]
  },
  {
   "cell_type": "code",
   "execution_count": 8,
   "metadata": {},
   "outputs": [
    {
     "data": {
      "text/html": [
       "<div>\n",
       "<style scoped>\n",
       "    .dataframe tbody tr th:only-of-type {\n",
       "        vertical-align: middle;\n",
       "    }\n",
       "\n",
       "    .dataframe tbody tr th {\n",
       "        vertical-align: top;\n",
       "    }\n",
       "\n",
       "    .dataframe thead th {\n",
       "        text-align: right;\n",
       "    }\n",
       "</style>\n",
       "<table border=\"1\" class=\"dataframe\">\n",
       "  <thead>\n",
       "    <tr style=\"text-align: right;\">\n",
       "      <th></th>\n",
       "      <th>Unnamed: 0</th>\n",
       "      <th>Unnamed: 1</th>\n",
       "      <th>Unnamed: 2</th>\n",
       "      <th>Note that these figures are generated using a formula that protects against any artificial inflation of chart positions.</th>\n",
       "      <th>Unnamed: 4</th>\n",
       "    </tr>\n",
       "  </thead>\n",
       "  <tbody>\n",
       "    <tr>\n",
       "      <td>0</td>\n",
       "      <td>Position</td>\n",
       "      <td>Track Name</td>\n",
       "      <td>Artist</td>\n",
       "      <td>Streams</td>\n",
       "      <td>URL</td>\n",
       "    </tr>\n",
       "    <tr>\n",
       "      <td>1</td>\n",
       "      <td>1</td>\n",
       "      <td>rockstar</td>\n",
       "      <td>Post Malone</td>\n",
       "      <td>35751279</td>\n",
       "      <td>https://open.spotify.com/track/7wGoVu4Dady5GV0...</td>\n",
       "    </tr>\n",
       "    <tr>\n",
       "      <td>2</td>\n",
       "      <td>2</td>\n",
       "      <td>Havana</td>\n",
       "      <td>Camila Cabello</td>\n",
       "      <td>28710729</td>\n",
       "      <td>https://open.spotify.com/track/0ofbQMrRDsUaVKq...</td>\n",
       "    </tr>\n",
       "    <tr>\n",
       "      <td>3</td>\n",
       "      <td>3</td>\n",
       "      <td>Perfect Duet (Ed Sheeran &amp; Beyoncé)</td>\n",
       "      <td>Ed Sheeran</td>\n",
       "      <td>26494583</td>\n",
       "      <td>https://open.spotify.com/track/1bhUWB0zJMIKr9y...</td>\n",
       "    </tr>\n",
       "    <tr>\n",
       "      <td>4</td>\n",
       "      <td>4</td>\n",
       "      <td>Wolves</td>\n",
       "      <td>Selena Gomez</td>\n",
       "      <td>23749600</td>\n",
       "      <td>https://open.spotify.com/track/7EmGUiUaOSGDnUU...</td>\n",
       "    </tr>\n",
       "    <tr>\n",
       "      <td>...</td>\n",
       "      <td>...</td>\n",
       "      <td>...</td>\n",
       "      <td>...</td>\n",
       "      <td>...</td>\n",
       "      <td>...</td>\n",
       "    </tr>\n",
       "    <tr>\n",
       "      <td>196</td>\n",
       "      <td>196</td>\n",
       "      <td>New Freezer (feat. Kendrick Lamar)</td>\n",
       "      <td>Rich The Kid</td>\n",
       "      <td>3826255</td>\n",
       "      <td>https://open.spotify.com/track/4pYZLpX23Vx8rwD...</td>\n",
       "    </tr>\n",
       "    <tr>\n",
       "      <td>197</td>\n",
       "      <td>197</td>\n",
       "      <td>Como Antes (feat. Wisin)</td>\n",
       "      <td>Yandel</td>\n",
       "      <td>3826032</td>\n",
       "      <td>https://open.spotify.com/track/5YzA563GXTuwQaR...</td>\n",
       "    </tr>\n",
       "    <tr>\n",
       "      <td>198</td>\n",
       "      <td>198</td>\n",
       "      <td>Lose Yourself - From \"8 Mile\" Soundtrack</td>\n",
       "      <td>Eminem</td>\n",
       "      <td>3813060</td>\n",
       "      <td>https://open.spotify.com/track/7w9bgPAmPTtrkt2...</td>\n",
       "    </tr>\n",
       "    <tr>\n",
       "      <td>199</td>\n",
       "      <td>199</td>\n",
       "      <td>There for You</td>\n",
       "      <td>Martin Garrix</td>\n",
       "      <td>3810951</td>\n",
       "      <td>https://open.spotify.com/track/6jA8HL9i4QGzsj6...</td>\n",
       "    </tr>\n",
       "    <tr>\n",
       "      <td>200</td>\n",
       "      <td>200</td>\n",
       "      <td>Blue Christmas</td>\n",
       "      <td>Elvis Presley</td>\n",
       "      <td>3803870</td>\n",
       "      <td>https://open.spotify.com/track/3QiAAp20rPC3dcA...</td>\n",
       "    </tr>\n",
       "  </tbody>\n",
       "</table>\n",
       "<p>201 rows × 5 columns</p>\n",
       "</div>"
      ],
      "text/plain": [
       "    Unnamed: 0                                Unnamed: 1      Unnamed: 2  \\\n",
       "0     Position                                Track Name          Artist   \n",
       "1            1                                  rockstar     Post Malone   \n",
       "2            2                                    Havana  Camila Cabello   \n",
       "3            3       Perfect Duet (Ed Sheeran & Beyoncé)      Ed Sheeran   \n",
       "4            4                                    Wolves    Selena Gomez   \n",
       "..         ...                                       ...             ...   \n",
       "196        196        New Freezer (feat. Kendrick Lamar)    Rich The Kid   \n",
       "197        197                  Como Antes (feat. Wisin)          Yandel   \n",
       "198        198  Lose Yourself - From \"8 Mile\" Soundtrack          Eminem   \n",
       "199        199                             There for You   Martin Garrix   \n",
       "200        200                            Blue Christmas   Elvis Presley   \n",
       "\n",
       "    Note that these figures are generated using a formula that protects against any artificial inflation of chart positions.  \\\n",
       "0                                              Streams                                                                         \n",
       "1                                             35751279                                                                         \n",
       "2                                             28710729                                                                         \n",
       "3                                             26494583                                                                         \n",
       "4                                             23749600                                                                         \n",
       "..                                                 ...                                                                         \n",
       "196                                            3826255                                                                         \n",
       "197                                            3826032                                                                         \n",
       "198                                            3813060                                                                         \n",
       "199                                            3810951                                                                         \n",
       "200                                            3803870                                                                         \n",
       "\n",
       "                                            Unnamed: 4  \n",
       "0                                                  URL  \n",
       "1    https://open.spotify.com/track/7wGoVu4Dady5GV0...  \n",
       "2    https://open.spotify.com/track/0ofbQMrRDsUaVKq...  \n",
       "3    https://open.spotify.com/track/1bhUWB0zJMIKr9y...  \n",
       "4    https://open.spotify.com/track/7EmGUiUaOSGDnUU...  \n",
       "..                                                 ...  \n",
       "196  https://open.spotify.com/track/4pYZLpX23Vx8rwD...  \n",
       "197  https://open.spotify.com/track/5YzA563GXTuwQaR...  \n",
       "198  https://open.spotify.com/track/7w9bgPAmPTtrkt2...  \n",
       "199  https://open.spotify.com/track/6jA8HL9i4QGzsj6...  \n",
       "200  https://open.spotify.com/track/3QiAAp20rPC3dcA...  \n",
       "\n",
       "[201 rows x 5 columns]"
      ]
     },
     "execution_count": 8,
     "metadata": {},
     "output_type": "execute_result"
    }
   ],
   "source": [
    "pd.read_csv('regional-global-weekly-2017-12-01--2017-12-08.csv')"
   ]
  },
  {
   "cell_type": "code",
   "execution_count": 9,
   "metadata": {},
   "outputs": [],
   "source": [
    "def get_ids(csv_name):\n",
    "    track_ids = []\n",
    "    chart = pd.read_csv(csv_name)\n",
    "    for i in range(1,len(chart)):\n",
    "        track = chart['Unnamed: 4'][i].split(\"/\")[4]\n",
    "        track_ids.append(track)\n",
    "    return track_ids"
   ]
  },
  {
   "cell_type": "code",
   "execution_count": 10,
   "metadata": {},
   "outputs": [
    {
     "data": {
      "text/plain": [
       "['7qiZfU4dY1lWllzX7mPBI3',\n",
       " '0afhq8XCExXpqazXczTSve',\n",
       " '3eR23VReFzcdmS7TYCrhCe',\n",
       " '6PCUP3dWmTjcTtXY02oFdT',\n",
       " '6RUKPb4LETWmmr3iAEQktW',\n",
       " '3NdDpSvN911VPGivFlV5d0',\n",
       " '0tgVpDi06FyKpA1z0VMD4v',\n",
       " '4aWmUDTfIPGksMNLV2rQP2',\n",
       " '72jbDTw1piOOj770jWNeaG',\n",
       " '2RttW7RAu5nOAfq6YFvApB',\n",
       " '51ChrwmUPDJvedPQnIU8Ls',\n",
       " '5HDPtsnyb3maFmPL8LLUTG',\n",
       " '3ebXMykcMXOcLeJ9xZ17XH',\n",
       " '2pJZ1v8HezrAoZ0Fhzby92',\n",
       " '6520aj0B4FSKGVuKNsOCOi',\n",
       " '0KKkJNfGyhkQ5aFogxQAPU',\n",
       " '6PJ8FF6UR8FZXfEvpHkIVN',\n",
       " '1sXUWdKx03aP9Gmzft58rt',\n",
       " '0dA2Mk56wEzDgegdC6R17g',\n",
       " '7oolFzHipTMg2nL7shhdz2',\n",
       " '4VuS959DSpr82t3qBqCrWG',\n",
       " '3Lfiu5sZ4M4B6JaKMBc0FU',\n",
       " '2dfHh7ECGxfNqZTQno09Vk',\n",
       " '5knuzwU65gJK7IF5yJsuaW',\n",
       " '7tr2za8SQg2CI8EDgrdtNl',\n",
       " '35QZaWQRkmnAVqBF1TLCxQ',\n",
       " '0gbBzIqrECJOEPvQJIBFs5',\n",
       " '5GXAXm5YOmYT0kL5jHvYBt',\n",
       " '5uCax9HTNlzGybIStD3vDh',\n",
       " '5NNlUMcOEOdoOIwwaWXv0k',\n",
       " '0CcQNd8CINkwQfe1RDtGV6',\n",
       " '6SznMYPQJHzr3IwsAHLId2',\n",
       " '7BKLCZ1jbUBVqRi2FVlTVw',\n",
       " '78rIJddV4X0HkNAInEcYde',\n",
       " '2EEeOnHehOozLq4aS0n6SL',\n",
       " '5aAx2yezTd8zXrkmtKl66Z',\n",
       " '6TIU9Ehmi6dMzZK73Ym4yj',\n",
       " '4Km5HrUvYTaSUfiSGPJeQR',\n",
       " '0fg8CqpjdojMyXLNzM2PaJ',\n",
       " '5hYTyyh2odQKphUbMqc5gN',\n",
       " '6mICuAdrwEjh6Y6lroV2Kg',\n",
       " '3rOSwuTsUlJp0Pu0MkN8r8',\n",
       " '6HUnnBwYZqcED1eQztxMBN',\n",
       " '3E2Zh20GDCR9B1EYjfXWyv',\n",
       " '3EmmCZoqpWOTY1g2GBwJoR',\n",
       " '1CnPYaKxTVb4LWOtiGOm0m',\n",
       " '1yNyoWWWikbLhwIGWjZuDW',\n",
       " '3umS4y3uQDkqekNjVpiRUs',\n",
       " '0SGkqnVQo9KPytSri1H6cF',\n",
       " '3a1lNhkSLSkpJE4MSHpDu9',\n",
       " '4pdPtRcBmOSQDlJ3Fk945m',\n",
       " '1PSBzsahR2AKwLJgx8ehBj',\n",
       " '343YBumqHu19cGoGARUTsd',\n",
       " '00lNx0OcTJrS3MKHcB80HY',\n",
       " '6b8Be6ljOzmkOmFslEb23P',\n",
       " '4Q3N4Ct4zCuIHuZ65E3BD4',\n",
       " '5MFzQMkrl1FOOng9tq6R9r',\n",
       " '7nKBxz47S9SD79N086fuhn',\n",
       " '3AEZUABDXNtecAOSC1qTfo',\n",
       " '1xznGGDReH1oQq0xzbwXa3',\n",
       " '0Zx8khUcEfCFK2AEoIhC92',\n",
       " '1cG0umU5TKStygKsPFZ9pY',\n",
       " '7KOlJ92bu51cltsD9KU5I7',\n",
       " '0FuTx2s3YH1ppmtiM6l0zI',\n",
       " '1a5Yu5L18qNxVhXx38njON',\n",
       " '2Ce5IyMlVRVvN997ZJjJJA',\n",
       " '04DwTuZ2VBdJCCC5TROn7L',\n",
       " '1qOLh0tI7trd1zdDKxYZTe',\n",
       " '6DNtNfH8hXkqOX1sjqmI7p',\n",
       " '1FUViuNSldssMIawrOXF2i',\n",
       " '3QwBODjSEzelZyVjxPOHdq',\n",
       " '2aksifNn5ph8igDOkPBA02',\n",
       " '4pLwZjInHj3SimIyN9SnOz',\n",
       " '4vb4mFvYsr2h6enhjJsq9Y',\n",
       " '6fxVffaTuwjgEk5h9QyRjy',\n",
       " '0hNduWmlWmEmuwEFcYvRu1',\n",
       " '7mldq42yDuxiUNn08nvzHO',\n",
       " '6fujklziTHa8uoM5OQSfIo',\n",
       " '6mapJIPnQ23RTAevUoE0DL',\n",
       " '43jBqV3j3Xi1g6wO0bhIMd',\n",
       " '6JV2JOEocMgcZxYSZelKcc',\n",
       " '5Ua3GXyHwiSfpNTMjq6m2z',\n",
       " '1Slwb6dOYkBlWal1PGtnNg',\n",
       " '6rQSrBHf7HlZjtcMZ4S4bO',\n",
       " '1vvNmPOiUuyCbgWmtc6yfm',\n",
       " '6De0lHrwBfPfrhorm9q1Xl',\n",
       " '6cAKeFFYW2aClZSUyvqAEW',\n",
       " '152lZdxL1OR0ZMW6KquMif',\n",
       " '4TZy1wLyHec06pwgFYDh1a',\n",
       " '4okba5wu9mMLXx79DXLKi3',\n",
       " '58zsLZPvfflaiIbNWoA22O',\n",
       " '0QsvXIfqM0zZoerQfsI9lm',\n",
       " '6i0V12jOa3mr6uu4WYhUBr',\n",
       " '4Hf7WnR761jpxPr5D46Bcd',\n",
       " '0WCEaydwN65cvwaW8aqptF',\n",
       " '0JiVRyTJcJnmlwCZ854K4p',\n",
       " '7DM4BPaS7uofFul3ywMe46',\n",
       " '5GFDrUTLGJix84sNhjCG0g',\n",
       " '4F7A0DXBrmUAkp32uenhZt',\n",
       " '3mRcWCyteY2133a7xVMrYw',\n",
       " '5q2JbCNi4FcnglgPfxcV65',\n",
       " '0prNGof3XqfTvNDxHonvdK',\n",
       " '6stYbAJgTszHAHZMPxWWCY',\n",
       " '3dQDid3IUNhZy1OehIfYfE',\n",
       " '5hEM0JchdVzQ5PwvSfITeX',\n",
       " '3kxfsdsCpFgN412fpnW85Y',\n",
       " '2rizacJSyD9S1IQUxUxnsK',\n",
       " '4ARPvK8DHLwt4oX65ZAFMw',\n",
       " '0kN8xEmgMW9mh7UmDYHlJP',\n",
       " '0n2bvWvMwr0gbjcuTm92eW',\n",
       " '2BrzlUj1u1CtvaJDGIKpsP',\n",
       " '0Fv5N0cHBsl4bzCbollCAS',\n",
       " '7yyRTcZmCiyzzJlNzGC9Ol',\n",
       " '1lntL1cI2UIWlxjL5QiN8g',\n",
       " '68EMU2RD1ECNeOeJ5qAXCV',\n",
       " '4Q4jmPHwu0wrJvqrld0FQ6',\n",
       " '2dqLk7ezV15LEJEwUmEbXB',\n",
       " '17Fd6Yb7mSbinKG8LoWfFl',\n",
       " '6t2ubAB4iSYOuIpRAOGd4t',\n",
       " '6wV12xIUb8oFY7lBy4KuQe',\n",
       " '6y2Kaz9QI01XBKJ8mTb7Pf',\n",
       " '6gBFPUFcJLzWGx4lenP6h2',\n",
       " '6A8dnC0xkiuWN4BshmTB2I',\n",
       " '3CRDbSIZ4r5MsZ0YwxuEkn',\n",
       " '7abpmGpF7PGep2rDU68GBR',\n",
       " '3SGWp9fJCzgK0WcpcKSQdy',\n",
       " '3cFsmM51N5zMAuu1nNY4Tw',\n",
       " '1D3ODoXHBLpdxolZRHWV1j',\n",
       " '6kex4EBAj0WHXDKZMEJaaF',\n",
       " '27SdWb2rFzO6GWiYDBTD9j',\n",
       " '1CUVN2kn7mW5FjkqXTR2W1',\n",
       " '0UeYCHOETPfai02uskjJ3x',\n",
       " '7FCfMXYTIiQ9b4hDYs4Iol',\n",
       " '6nxQdXa1uAL0rY72wPZu89',\n",
       " '2Z8WuEywRWYTKe1NybPQEW',\n",
       " '7gHs73wELdeycvS48JfIos',\n",
       " '3hB5DgAiMAQ4DzYbsMq1IT',\n",
       " '0azC730Exh71aQlOt9Zj3y',\n",
       " '20ZAJdsKB5IGbGj4ilRt2o',\n",
       " '4tCtwWceOPWzenK2HAIJSb',\n",
       " '1AkTW13ysu0AJrwuM6UY0I',\n",
       " '0v9Wz8o0BT8DU38R4ddjeH',\n",
       " '0sXvAOmXgjR2QUqLK1MltU',\n",
       " '69bp2EbF7Q2rqc5N3ylezZ',\n",
       " '5J1c3M4EldCfNxXwrwt8mT',\n",
       " '5OOkp4U9P9oL23maHFHL1h',\n",
       " '50PWlIBU7PlGGwzgN8TiFJ',\n",
       " '11KJSRSgaDxqydKYiD2Jew',\n",
       " '6fwdbPMwP1zVStm8FybmkO',\n",
       " '3BY2mafsbsoKGqS380Xnuz',\n",
       " '7xHWNBFm6ObGEQPaUxHuKO',\n",
       " '4gmmRb6bZJffOOiww1JGTO',\n",
       " '0pSBuHjILhNEo55xK1zrRt',\n",
       " '4dASQiO1Eoo3RJvt74FtXB',\n",
       " '37F0uwRSrdzkBiuj0D5UHI',\n",
       " '3TRFq09DUgYj1mug6RRqJW',\n",
       " '5LXj9Ch3O9ATm1NoHT8GXn',\n",
       " '3AsAuGTaDQzavZZThyYlop',\n",
       " '7vRriwrloYVaoAe3a9wJHe',\n",
       " '5tFep7dXGd7vEJ668wTPux',\n",
       " '2NHSYwGkAvPHzCinY0KwXo',\n",
       " '3FiE2d325mIOc4YjkSLVJR',\n",
       " '2XMTqoHHSH0lvuXrvIEdco',\n",
       " '6I6NX6tjGsxFAsIfGzY9lJ',\n",
       " '14WWzenpaEgQZlqPq2nk4v',\n",
       " '6qDF4wWL49CAVbgT7yuHl8',\n",
       " '0tICYNayWWhH9GPeFrfjfD',\n",
       " '6F609ICg9Spjrw1epsAnpa',\n",
       " '7129iqBafaphfc3WPCGC0L',\n",
       " '3uMB82o0qa7erhiZBW9KQC',\n",
       " '5mey7CLLuFToM2P68Qu1gF',\n",
       " '4ckuS4Nj4FZ7i3Def3Br8W',\n",
       " '7EiZI6JVHllARrX9PUvAdX',\n",
       " '1Tt4sE4pXi57mTD1GCzsqm',\n",
       " '4nMlau89VAjmV7agkl7OY3',\n",
       " '6eT7xZZlB2mwyzJ2sUKG6w',\n",
       " '2aFiaMXmWsM3Vj72F9ksBl',\n",
       " '7yHEDfrJNd0zWOfXwydNH0',\n",
       " '5Z01UMMf7V1o0MzF86s6WJ',\n",
       " '0PDUDa38GO8lMxLCRc4lL1',\n",
       " '11Fo4dAH31K7UZHGqCkCmE',\n",
       " '13HVjjWUZFaWilh2QUJKsP',\n",
       " '0y1QJc3SJVPKJ1OvFmFqe6',\n",
       " '5uDASfU19gDxSjW8cnCaBp',\n",
       " '5fc6rQgAKiLutfUYWQ6QnJ',\n",
       " '20dP2DaMHIAmwWAbp7peSr',\n",
       " '4WjH9Bzt3kx7z8kl0awxh4',\n",
       " '1rIKgCH4H52lrvDcz50hS8',\n",
       " '58IL315gMSTD37DOZPJ2hf',\n",
       " '3UjJP4ludb74a29P5EHEIo',\n",
       " '6vSwxzO2Qf4BinHSXRwZJe',\n",
       " '1MksGqIztTT6M9R1ErKVs8',\n",
       " '4BHzQ9C00ceJxfG16AlNWb',\n",
       " '3B7udSGy2PfgoCniMSb523',\n",
       " '4sPmO7WMQUAf45kwMOtONw',\n",
       " '1WP1r7fuvRqZRnUaTi2I1Q',\n",
       " '6gTJaPuj8DT8RjuDJyBgzP',\n",
       " '0YHUITU3w6ws1v8ehT264g',\n",
       " '6OZh916QF8XNunWaP97WEZ',\n",
       " '0L7loeTIg6akW84aEQZpCT']"
      ]
     },
     "execution_count": 10,
     "metadata": {},
     "output_type": "execute_result"
    }
   ],
   "source": [
    "get_ids(charts[0])"
   ]
  },
  {
   "cell_type": "code",
   "execution_count": 11,
   "metadata": {},
   "outputs": [],
   "source": [
    "id_list = []\n",
    "for i in charts:\n",
    "    id_list.extend(get_ids(i))"
   ]
  },
  {
   "cell_type": "code",
   "execution_count": 12,
   "metadata": {},
   "outputs": [
    {
     "data": {
      "text/plain": [
       "3029"
      ]
     },
     "execution_count": 12,
     "metadata": {},
     "output_type": "execute_result"
    }
   ],
   "source": [
    "unique_id = list(set(id_list))\n",
    "len(unique_id)"
   ]
  },
  {
   "cell_type": "code",
   "execution_count": 13,
   "metadata": {},
   "outputs": [],
   "source": [
    "from spotipy.oauth2 import SpotifyClientCredentials\n",
    "\n",
    "client_id='2264c5e5d4c1469d812c8097babe7e42'\n",
    "client_secret='2050b324730b46aea17caa8e51175da9'\n",
    "\n",
    "client_credentials_manager = SpotifyClientCredentials(client_id=client_id, client_secret=client_secret)\n",
    "spot = spotipy.Spotify(client_credentials_manager=client_credentials_manager)"
   ]
  },
  {
   "cell_type": "code",
   "execution_count": 14,
   "metadata": {},
   "outputs": [
    {
     "data": {
      "text/plain": [
       "[{'danceability': 0.825,\n",
       "  'energy': 0.652,\n",
       "  'key': 1,\n",
       "  'loudness': -3.183,\n",
       "  'mode': 0,\n",
       "  'speechiness': 0.0802,\n",
       "  'acousticness': 0.581,\n",
       "  'instrumentalness': 0,\n",
       "  'liveness': 0.0931,\n",
       "  'valence': 0.931,\n",
       "  'tempo': 95.977,\n",
       "  'type': 'audio_features',\n",
       "  'id': '7qiZfU4dY1lWllzX7mPBI3',\n",
       "  'uri': 'spotify:track:7qiZfU4dY1lWllzX7mPBI3',\n",
       "  'track_href': 'https://api.spotify.com/v1/tracks/7qiZfU4dY1lWllzX7mPBI3',\n",
       "  'analysis_url': 'https://api.spotify.com/v1/audio-analysis/7qiZfU4dY1lWllzX7mPBI3',\n",
       "  'duration_ms': 233713,\n",
       "  'time_signature': 4}]"
      ]
     },
     "execution_count": 14,
     "metadata": {},
     "output_type": "execute_result"
    }
   ],
   "source": [
    "credentials = spotipy.oauth2.SpotifyClientCredentials(client_id='d1752e10625849959f530b56af4458e0', client_secret='057f9a3c8e584dbd9b6c27cf2a224963')\n",
    "spotify = spotipy.Spotify(client_credentials_manager=credentials)\n",
    "spotify.audio_features(['7qiZfU4dY1lWllzX7mPBI3'])"
   ]
  },
  {
   "cell_type": "code",
   "execution_count": 15,
   "metadata": {},
   "outputs": [],
   "source": [
    "def get_artists(csv_name):\n",
    "    track_ids = []\n",
    "    chart = pd.read_csv(csv_name)\n",
    "    for i in range(1,len(chart)):\n",
    "        track = chart['Unnamed: 2']\n",
    "        track_ids.extend(track)\n",
    "    return track_ids"
   ]
  },
  {
   "cell_type": "code",
   "execution_count": 16,
   "metadata": {},
   "outputs": [],
   "source": [
    "artist_list = []\n",
    "for i in charts:\n",
    "    artist_list.extend(get_artists(i))"
   ]
  },
  {
   "cell_type": "code",
   "execution_count": 17,
   "metadata": {},
   "outputs": [
    {
     "data": {
      "text/plain": [
       "662"
      ]
     },
     "execution_count": 17,
     "metadata": {},
     "output_type": "execute_result"
    }
   ],
   "source": [
    "unique_artists = list(set(artist_list))\n",
    "len(unique_artists)"
   ]
  },
  {
   "cell_type": "code",
   "execution_count": 18,
   "metadata": {},
   "outputs": [
    {
     "data": {
      "text/plain": [
       "6231000"
      ]
     },
     "execution_count": 18,
     "metadata": {},
     "output_type": "execute_result"
    }
   ],
   "source": [
    "len(artist_list)"
   ]
  },
  {
   "cell_type": "code",
   "execution_count": 19,
   "metadata": {},
   "outputs": [],
   "source": [
    "def get_track(csv_name):\n",
    "    track_ids = []\n",
    "    chart = pd.read_csv(csv_name)\n",
    "    for i in range(1,len(chart)):\n",
    "        track = chart['Unnamed: 1']\n",
    "        track_ids.extend(track)\n",
    "    return track_ids"
   ]
  },
  {
   "cell_type": "code",
   "execution_count": 20,
   "metadata": {},
   "outputs": [
    {
     "data": {
      "text/plain": [
       "['regional-global-weekly-2017-03-03--2017-03-10.csv',\n",
       " 'regional-global-weekly-2017-01-06--2017-01-13.csv',\n",
       " 'regional-global-weekly-2018-05-11--2018-05-18.csv',\n",
       " 'regional-global-weekly-2019-04-12--2019-04-19.csv',\n",
       " 'regional-global-weekly-2019-07-19--2019-07-26.csv',\n",
       " 'regional-global-weekly-2019-03-08--2019-03-15.csv',\n",
       " 'regional-global-weekly-2017-01-20--2017-01-27.csv',\n",
       " 'regional-global-weekly-2017-09-22--2017-09-29.csv',\n",
       " 'regional-global-weekly-2018-09-07--2018-09-14.csv',\n",
       " 'regional-global-weekly-2019-01-25--2019-02-01.csv',\n",
       " 'regional-global-weekly-2019-03-29--2019-04-05.csv',\n",
       " 'regional-global-weekly-2018-06-22--2018-06-29.csv',\n",
       " 'regional-global-weekly-2017-11-10--2017-11-17.csv',\n",
       " 'regional-global-weekly-2017-10-13--2017-10-20.csv',\n",
       " 'regional-global-weekly-2017-03-17--2017-03-24.csv',\n",
       " 'regional-global-weekly-2017-10-27--2017-11-03.csv',\n",
       " 'regional-global-weekly-2019-12-20--2019-12-27.csv',\n",
       " 'regional-global-weekly-2018-05-25--2018-06-01.csv',\n",
       " 'regional-global-weekly-2018-07-13--2018-07-20.csv',\n",
       " 'regional-global-weekly-2019-10-18--2019-10-25.csv',\n",
       " 'regional-global-weekly-2019-12-06--2019-12-13.csv',\n",
       " 'regional-global-weekly-2018-08-10--2018-08-17.csv',\n",
       " 'regional-global-weekly-2019-01-11--2019-01-18.csv',\n",
       " 'regional-global-weekly-2018-10-26--2018-11-02.csv',\n",
       " 'regional-global-weekly-2018-07-27--2018-08-03.csv',\n",
       " 'regional-global-weekly-2016-12-30--2017-01-06.csv',\n",
       " 'regional-global-weekly-2018-06-15--2018-06-22.csv',\n",
       " 'regional-global-weekly-2018-10-12--2018-10-19.csv',\n",
       " 'regional-global-weekly-2018-11-02--2018-11-09.csv',\n",
       " 'regional-global-weekly-2018-09-14--2018-09-21.csv',\n",
       " 'regional-global-weekly-2018-06-29--2018-07-06.csv',\n",
       " 'regional-global-weekly-2019-10-04--2019-10-11.csv',\n",
       " 'regional-global-weekly-2017-12-29--2018-01-05.csv',\n",
       " 'regional-global-weekly-2018-03-23--2018-03-30.csv',\n",
       " 'regional-global-weekly-2019-04-26--2019-05-03.csv',\n",
       " 'regional-global-weekly-2018-02-23--2018-03-02.csv',\n",
       " 'regional-global-weekly-2017-04-21--2017-04-28.csv',\n",
       " 'regional-global-weekly-2017-09-15--2017-09-22.csv',\n",
       " 'regional-global-weekly-2018-03-16--2018-03-23.csv',\n",
       " 'regional-global-weekly-2019-02-15--2019-02-22.csv',\n",
       " 'regional-global-weekly-2019-05-31--2019-06-07.csv',\n",
       " 'regional-global-weekly-2019-07-05--2019-07-12.csv',\n",
       " 'regional-global-weekly-2017-10-20--2017-10-27.csv',\n",
       " 'regional-global-weekly-2018-08-31--2018-09-07.csv',\n",
       " 'regional-global-weekly-2018-12-21--2018-12-28.csv',\n",
       " 'regional-global-weekly-2017-07-14--2017-07-21.csv',\n",
       " 'regional-global-weekly-2018-07-20--2018-07-27.csv',\n",
       " 'regional-global-weekly-2019-12-13--2019-12-20.csv',\n",
       " 'regional-global-weekly-2017-10-06--2017-10-13.csv',\n",
       " 'regional-global-weekly-2018-05-18--2018-05-25.csv',\n",
       " 'regional-global-weekly-2019-03-15--2019-03-22.csv',\n",
       " 'regional-global-weekly-2018-02-16--2018-02-23.csv',\n",
       " 'regional-global-weekly-2018-07-06--2018-07-13.csv',\n",
       " 'regional-global-weekly-2017-06-30--2017-07-07.csv',\n",
       " 'regional-global-weekly-2019-05-10--2019-05-17.csv',\n",
       " 'regional-global-weekly-2019-01-18--2019-01-25.csv',\n",
       " 'regional-global-weekly-2019-08-23--2019-08-30.csv',\n",
       " 'regional-global-weekly-2019-11-01--2019-11-08.csv',\n",
       " 'regional-global-weekly-2019-10-11--2019-10-18.csv',\n",
       " 'regional-global-weekly-2019-08-16--2019-08-23.csv',\n",
       " 'regional-global-weekly-2017-01-13--2017-01-20.csv',\n",
       " 'regional-global-weekly-2017-05-19--2017-05-26.csv',\n",
       " 'regional-global-weekly-2018-06-08--2018-06-15.csv',\n",
       " 'regional-global-weekly-2017-02-17--2017-02-24.csv',\n",
       " 'regional-global-weekly-2019-06-21--2019-06-28.csv',\n",
       " 'regional-global-weekly-2017-03-24--2017-03-31.csv',\n",
       " 'regional-global-weekly-2018-01-26--2018-02-02.csv',\n",
       " 'regional-global-weekly-2019-01-04--2019-01-11.csv',\n",
       " 'regional-global-weekly-2017-02-24--2017-03-03.csv',\n",
       " 'regional-global-weekly-2017-07-07--2017-07-14.csv',\n",
       " 'regional-global-weekly-2017-01-27--2017-02-03.csv',\n",
       " 'regional-global-weekly-2017-05-05--2017-05-12.csv',\n",
       " 'regional-global-weekly-2017-09-29--2017-10-06.csv',\n",
       " 'regional-global-weekly-2018-01-12--2018-01-19.csv',\n",
       " 'regional-global-weekly-2018-11-09--2018-11-16.csv',\n",
       " 'regional-global-weekly-2017-12-01--2017-12-08.csv',\n",
       " 'regional-global-weekly-2019-10-25--2019-11-01.csv',\n",
       " 'regional-global-weekly-2017-02-03--2017-02-10.csv',\n",
       " 'regional-global-weekly-2017-06-09--2017-06-16.csv',\n",
       " 'regional-global-weekly-2017-07-28--2017-08-04.csv',\n",
       " 'regional-global-weekly-2019-03-22--2019-03-29.csv',\n",
       " 'regional-global-weekly-2018-09-28--2018-10-05.csv',\n",
       " 'regional-global-weekly-2017-09-08--2017-09-15.csv',\n",
       " 'regional-global-weekly-2019-02-08--2019-02-15.csv',\n",
       " 'regional-global-weekly-2018-05-04--2018-05-11.csv',\n",
       " 'regional-global-weekly-2018-11-30--2018-12-07.csv',\n",
       " 'regional-global-weekly-2017-08-04--2017-08-11.csv',\n",
       " 'regional-global-weekly-2018-04-13--2018-04-20.csv',\n",
       " 'regional-global-weekly-2017-12-22--2017-12-29.csv',\n",
       " 'regional-global-weekly-2018-12-07--2018-12-14.csv',\n",
       " 'regional-global-weekly-2019-06-14--2019-06-21.csv',\n",
       " 'regional-global-weekly-2018-02-02--2018-02-09.csv',\n",
       " 'regional-global-weekly-2019-03-01--2019-03-08.csv',\n",
       " 'regional-global-weekly-2019-06-28--2019-07-05.csv',\n",
       " 'regional-global-weekly-2018-10-05--2018-10-12.csv',\n",
       " 'regional-global-weekly-2019-05-17--2019-05-24.csv',\n",
       " 'regional-global-weekly-2019-02-22--2019-03-01.csv',\n",
       " 'regional-global-weekly-2019-07-12--2019-07-19.csv',\n",
       " 'regional-global-weekly-2019-09-06--2019-09-13.csv',\n",
       " 'regional-global-weekly-2019-11-15--2019-11-22.csv',\n",
       " 'regional-global-weekly-2019-08-02--2019-08-09.csv',\n",
       " 'regional-global-weekly-2019-07-26--2019-08-02.csv',\n",
       " 'regional-global-weekly-2019-09-20--2019-09-27.csv',\n",
       " 'regional-global-weekly-2019-05-03--2019-05-10.csv',\n",
       " 'regional-global-weekly-2019-04-19--2019-04-26.csv',\n",
       " 'regional-global-weekly-2017-07-21--2017-07-28.csv',\n",
       " 'regional-global-weekly-2019-06-07--2019-06-14.csv',\n",
       " 'regional-global-weekly-2018-12-14--2018-12-21.csv',\n",
       " 'regional-global-weekly-2019-11-22--2019-11-29.csv',\n",
       " 'regional-global-weekly-2019-04-05--2019-04-12.csv',\n",
       " 'regional-global-weekly-2018-04-27--2018-05-04.csv',\n",
       " 'regional-global-weekly-2018-03-09--2018-03-16.csv',\n",
       " 'regional-global-weekly-2019-11-29--2019-12-06.csv',\n",
       " 'regional-global-weekly-2017-12-15--2017-12-22.csv',\n",
       " 'regional-global-weekly-2018-08-24--2018-08-31.csv',\n",
       " 'regional-global-weekly-2017-08-18--2017-08-25.csv',\n",
       " 'regional-global-weekly-2018-10-19--2018-10-26.csv',\n",
       " 'regional-global-weekly-2019-09-27--2019-10-04.csv',\n",
       " 'regional-global-weekly-2017-02-10--2017-02-17.csv',\n",
       " 'regional-global-weekly-2018-03-30--2018-04-06.csv',\n",
       " 'regional-global-weekly-2018-01-05--2018-01-12.csv',\n",
       " 'regional-global-weekly-2018-08-17--2018-08-24.csv',\n",
       " 'regional-global-weekly-2017-05-12--2017-05-19.csv',\n",
       " 'regional-global-weekly-2016-12-23--2016-12-30.csv',\n",
       " 'regional-global-weekly-2018-09-21--2018-09-28.csv',\n",
       " 'regional-global-weekly-2017-03-31--2017-04-07.csv',\n",
       " 'regional-global-weekly-2019-08-09--2019-08-16.csv',\n",
       " 'regional-global-weekly-2017-03-10--2017-03-17.csv',\n",
       " 'regional-global-weekly-2019-09-13--2019-09-20.csv',\n",
       " 'regional-global-weekly-2017-11-17--2017-11-24.csv',\n",
       " 'regional-global-weekly-2018-08-03--2018-08-10.csv',\n",
       " 'regional-global-weekly-2017-04-14--2017-04-21.csv',\n",
       " 'regional-global-weekly-2018-04-20--2018-04-27.csv',\n",
       " 'regional-global-weekly-2019-11-08--2019-11-15.csv',\n",
       " 'regional-global-weekly-2018-04-06--2018-04-13.csv',\n",
       " 'regional-global-weekly-2017-08-25--2017-09-01.csv',\n",
       " 'regional-global-weekly-2017-11-03--2017-11-10.csv',\n",
       " 'regional-global-weekly-2017-04-28--2017-05-05.csv',\n",
       " 'regional-global-weekly-2018-02-09--2018-02-16.csv',\n",
       " 'regional-global-weekly-2018-06-01--2018-06-08.csv',\n",
       " 'regional-global-weekly-2017-06-16--2017-06-23.csv',\n",
       " 'regional-global-weekly-2017-11-24--2017-12-01.csv',\n",
       " 'regional-global-weekly-2018-11-16--2018-11-23.csv',\n",
       " 'regional-global-weekly-2018-12-28--2019-01-04.csv',\n",
       " 'regional-global-weekly-2017-06-23--2017-06-30.csv',\n",
       " 'regional-global-weekly-2018-11-23--2018-11-30.csv',\n",
       " 'regional-global-weekly-2017-04-07--2017-04-14.csv',\n",
       " 'regional-global-weekly-2017-12-08--2017-12-15.csv',\n",
       " 'regional-global-weekly-2018-01-19--2018-01-26.csv',\n",
       " 'regional-global-weekly-2017-08-11--2017-08-18.csv',\n",
       " 'regional-global-weekly-2019-02-01--2019-02-08.csv',\n",
       " 'regional-global-weekly-2017-09-01--2017-09-08.csv',\n",
       " 'regional-global-weekly-2018-03-02--2018-03-09.csv',\n",
       " 'regional-global-weekly-2019-08-30--2019-09-06.csv',\n",
       " 'regional-global-weekly-2019-05-24--2019-05-31.csv']"
      ]
     },
     "execution_count": 20,
     "metadata": {},
     "output_type": "execute_result"
    }
   ],
   "source": [
    "charts"
   ]
  },
  {
   "cell_type": "code",
   "execution_count": null,
   "metadata": {},
   "outputs": [],
   "source": []
  },
  {
   "cell_type": "code",
   "execution_count": 21,
   "metadata": {},
   "outputs": [],
   "source": [
    "track_list = []\n",
    "for i in charts:\n",
    "    track_list.extend(get_track(i))"
   ]
  },
  {
   "cell_type": "code",
   "execution_count": 22,
   "metadata": {},
   "outputs": [
    {
     "data": {
      "text/plain": [
       "662"
      ]
     },
     "execution_count": 22,
     "metadata": {},
     "output_type": "execute_result"
    }
   ],
   "source": [
    "unique_track = list(set(artist_list))\n",
    "len(unique_track)"
   ]
  },
  {
   "cell_type": "code",
   "execution_count": 23,
   "metadata": {},
   "outputs": [],
   "source": [
    "#make a large dataframe for all data \n",
    "track_data = []\n",
    "for i in charts[1:]:\n",
    "    chart = pd.read_csv(i)\n",
    "    track_data.append(chart)\n",
    "    "
   ]
  },
  {
   "cell_type": "code",
   "execution_count": 24,
   "metadata": {},
   "outputs": [
    {
     "data": {
      "text/plain": [
       "154"
      ]
     },
     "execution_count": 24,
     "metadata": {},
     "output_type": "execute_result"
    }
   ],
   "source": [
    "len(track_data)"
   ]
  },
  {
   "cell_type": "code",
   "execution_count": 25,
   "metadata": {},
   "outputs": [],
   "source": [
    "all_dates = pd.concat(track_data)"
   ]
  },
  {
   "cell_type": "code",
   "execution_count": 26,
   "metadata": {},
   "outputs": [
    {
     "data": {
      "text/html": [
       "<div>\n",
       "<style scoped>\n",
       "    .dataframe tbody tr th:only-of-type {\n",
       "        vertical-align: middle;\n",
       "    }\n",
       "\n",
       "    .dataframe tbody tr th {\n",
       "        vertical-align: top;\n",
       "    }\n",
       "\n",
       "    .dataframe thead th {\n",
       "        text-align: right;\n",
       "    }\n",
       "</style>\n",
       "<table border=\"1\" class=\"dataframe\">\n",
       "  <thead>\n",
       "    <tr style=\"text-align: right;\">\n",
       "      <th></th>\n",
       "      <th>Unnamed: 0</th>\n",
       "      <th>Unnamed: 1</th>\n",
       "      <th>Unnamed: 2</th>\n",
       "      <th>Note that these figures are generated using a formula that protects against any artificial inflation of chart positions.</th>\n",
       "      <th>Unnamed: 4</th>\n",
       "    </tr>\n",
       "  </thead>\n",
       "  <tbody>\n",
       "    <tr>\n",
       "      <td>0</td>\n",
       "      <td>Position</td>\n",
       "      <td>Track Name</td>\n",
       "      <td>Artist</td>\n",
       "      <td>Streams</td>\n",
       "      <td>URL</td>\n",
       "    </tr>\n",
       "    <tr>\n",
       "      <td>1</td>\n",
       "      <td>1</td>\n",
       "      <td>Shape of You</td>\n",
       "      <td>Ed Sheeran</td>\n",
       "      <td>51095759</td>\n",
       "      <td>https://open.spotify.com/track/7qiZfU4dY1lWllz...</td>\n",
       "    </tr>\n",
       "    <tr>\n",
       "      <td>2</td>\n",
       "      <td>2</td>\n",
       "      <td>Castle on the Hill</td>\n",
       "      <td>Ed Sheeran</td>\n",
       "      <td>35168298</td>\n",
       "      <td>https://open.spotify.com/track/6PCUP3dWmTjcTtX...</td>\n",
       "    </tr>\n",
       "    <tr>\n",
       "      <td>3</td>\n",
       "      <td>3</td>\n",
       "      <td>Starboy</td>\n",
       "      <td>The Weeknd</td>\n",
       "      <td>24261229</td>\n",
       "      <td>https://open.spotify.com/track/5aAx2yezTd8zXrk...</td>\n",
       "    </tr>\n",
       "    <tr>\n",
       "      <td>4</td>\n",
       "      <td>4</td>\n",
       "      <td>Rockabye (feat. Sean Paul &amp; Anne-Marie)</td>\n",
       "      <td>Clean Bandit</td>\n",
       "      <td>21671209</td>\n",
       "      <td>https://open.spotify.com/track/5knuzwU65gJK7IF...</td>\n",
       "    </tr>\n",
       "    <tr>\n",
       "      <td>...</td>\n",
       "      <td>...</td>\n",
       "      <td>...</td>\n",
       "      <td>...</td>\n",
       "      <td>...</td>\n",
       "      <td>...</td>\n",
       "    </tr>\n",
       "    <tr>\n",
       "      <td>196</td>\n",
       "      <td>196</td>\n",
       "      <td>Punto G</td>\n",
       "      <td>KAROL G</td>\n",
       "      <td>4461128</td>\n",
       "      <td>https://open.spotify.com/track/2E82gORVSA7UMEz...</td>\n",
       "    </tr>\n",
       "    <tr>\n",
       "      <td>197</td>\n",
       "      <td>197</td>\n",
       "      <td>Outta My Head (with John Mayer)</td>\n",
       "      <td>Khalid</td>\n",
       "      <td>4460060</td>\n",
       "      <td>https://open.spotify.com/track/09oZ9eXQ2fo6YDr...</td>\n",
       "    </tr>\n",
       "    <tr>\n",
       "      <td>198</td>\n",
       "      <td>198</td>\n",
       "      <td>Africa</td>\n",
       "      <td>TOTO</td>\n",
       "      <td>4433481</td>\n",
       "      <td>https://open.spotify.com/track/2374M0fQpWi3dLn...</td>\n",
       "    </tr>\n",
       "    <tr>\n",
       "      <td>199</td>\n",
       "      <td>199</td>\n",
       "      <td>FRIENDS</td>\n",
       "      <td>Marshmello</td>\n",
       "      <td>4430014</td>\n",
       "      <td>https://open.spotify.com/track/08bNPGLD8AhKpnn...</td>\n",
       "    </tr>\n",
       "    <tr>\n",
       "      <td>200</td>\n",
       "      <td>200</td>\n",
       "      <td>Todo Mundo Vai Sofrer - Ao Vivo</td>\n",
       "      <td>Marília Mendonça</td>\n",
       "      <td>4420338</td>\n",
       "      <td>https://open.spotify.com/track/4E6RdcCWMiHTu7z...</td>\n",
       "    </tr>\n",
       "  </tbody>\n",
       "</table>\n",
       "<p>30954 rows × 5 columns</p>\n",
       "</div>"
      ],
      "text/plain": [
       "    Unnamed: 0                               Unnamed: 1        Unnamed: 2  \\\n",
       "0     Position                               Track Name            Artist   \n",
       "1            1                             Shape of You        Ed Sheeran   \n",
       "2            2                       Castle on the Hill        Ed Sheeran   \n",
       "3            3                                  Starboy        The Weeknd   \n",
       "4            4  Rockabye (feat. Sean Paul & Anne-Marie)      Clean Bandit   \n",
       "..         ...                                      ...               ...   \n",
       "196        196                                  Punto G           KAROL G   \n",
       "197        197          Outta My Head (with John Mayer)            Khalid   \n",
       "198        198                                   Africa              TOTO   \n",
       "199        199                                  FRIENDS        Marshmello   \n",
       "200        200          Todo Mundo Vai Sofrer - Ao Vivo  Marília Mendonça   \n",
       "\n",
       "    Note that these figures are generated using a formula that protects against any artificial inflation of chart positions.  \\\n",
       "0                                              Streams                                                                         \n",
       "1                                             51095759                                                                         \n",
       "2                                             35168298                                                                         \n",
       "3                                             24261229                                                                         \n",
       "4                                             21671209                                                                         \n",
       "..                                                 ...                                                                         \n",
       "196                                            4461128                                                                         \n",
       "197                                            4460060                                                                         \n",
       "198                                            4433481                                                                         \n",
       "199                                            4430014                                                                         \n",
       "200                                            4420338                                                                         \n",
       "\n",
       "                                            Unnamed: 4  \n",
       "0                                                  URL  \n",
       "1    https://open.spotify.com/track/7qiZfU4dY1lWllz...  \n",
       "2    https://open.spotify.com/track/6PCUP3dWmTjcTtX...  \n",
       "3    https://open.spotify.com/track/5aAx2yezTd8zXrk...  \n",
       "4    https://open.spotify.com/track/5knuzwU65gJK7IF...  \n",
       "..                                                 ...  \n",
       "196  https://open.spotify.com/track/2E82gORVSA7UMEz...  \n",
       "197  https://open.spotify.com/track/09oZ9eXQ2fo6YDr...  \n",
       "198  https://open.spotify.com/track/2374M0fQpWi3dLn...  \n",
       "199  https://open.spotify.com/track/08bNPGLD8AhKpnn...  \n",
       "200  https://open.spotify.com/track/4E6RdcCWMiHTu7z...  \n",
       "\n",
       "[30954 rows x 5 columns]"
      ]
     },
     "execution_count": 26,
     "metadata": {},
     "output_type": "execute_result"
    }
   ],
   "source": [
    "all_dates"
   ]
  },
  {
   "cell_type": "code",
   "execution_count": 27,
   "metadata": {},
   "outputs": [],
   "source": [
    "week_numbers = []\n",
    "for i in range(0,155):\n",
    "    counter=200\n",
    "    while counter != 0:\n",
    "        week_numbers.append(i)\n",
    "        counter = counter-1\n",
    "    \n",
    "        "
   ]
  },
  {
   "cell_type": "code",
   "execution_count": 28,
   "metadata": {},
   "outputs": [
    {
     "data": {
      "text/plain": [
       "31000"
      ]
     },
     "execution_count": 28,
     "metadata": {},
     "output_type": "execute_result"
    }
   ],
   "source": [
    "len(week_numbers)"
   ]
  },
  {
   "cell_type": "code",
   "execution_count": 29,
   "metadata": {},
   "outputs": [],
   "source": [
    "from tqdm import tqdm"
   ]
  },
  {
   "cell_type": "code",
   "execution_count": 30,
   "metadata": {},
   "outputs": [
    {
     "name": "stderr",
     "output_type": "stream",
     "text": [
      "  0%|          | 0/3029 [00:00<?, ?it/s]\n"
     ]
    },
    {
     "ename": "NameError",
     "evalue": "name 'all_audio_features' is not defined",
     "output_type": "error",
     "traceback": [
      "\u001b[0;31m---------------------------------------------------------------------------\u001b[0m",
      "\u001b[0;31mNameError\u001b[0m                                 Traceback (most recent call last)",
      "\u001b[0;32m<ipython-input-30-3399eed1dfbf>\u001b[0m in \u001b[0;36m<module>\u001b[0;34m\u001b[0m\n\u001b[1;32m      1\u001b[0m \u001b[0;31m#all_audio_features = []\u001b[0m\u001b[0;34m\u001b[0m\u001b[0;34m\u001b[0m\u001b[0;34m\u001b[0m\u001b[0m\n\u001b[1;32m      2\u001b[0m \u001b[0;32mfor\u001b[0m \u001b[0mthing\u001b[0m \u001b[0;32min\u001b[0m \u001b[0mtqdm\u001b[0m\u001b[0;34m(\u001b[0m\u001b[0munique_id\u001b[0m\u001b[0;34m)\u001b[0m\u001b[0;34m:\u001b[0m\u001b[0;34m\u001b[0m\u001b[0;34m\u001b[0m\u001b[0m\n\u001b[0;32m----> 3\u001b[0;31m     \u001b[0mall_audio_features\u001b[0m\u001b[0;34m.\u001b[0m\u001b[0mappend\u001b[0m\u001b[0;34m(\u001b[0m\u001b[0;34m(\u001b[0m\u001b[0mspotify\u001b[0m\u001b[0;34m.\u001b[0m\u001b[0maudio_features\u001b[0m\u001b[0;34m(\u001b[0m\u001b[0;34m[\u001b[0m\u001b[0;34mf'{thing}'\u001b[0m\u001b[0;34m]\u001b[0m\u001b[0;34m)\u001b[0m\u001b[0;34m)\u001b[0m\u001b[0;34m)\u001b[0m\u001b[0;34m\u001b[0m\u001b[0;34m\u001b[0m\u001b[0m\n\u001b[0m",
      "\u001b[0;31mNameError\u001b[0m: name 'all_audio_features' is not defined"
     ]
    }
   ],
   "source": [
    "#all_audio_features = []\n",
    "for thing in tqdm(unique_id):\n",
    "    all_audio_features.append((spotify.audio_features([f'{thing}'])))"
   ]
  },
  {
   "cell_type": "code",
   "execution_count": null,
   "metadata": {},
   "outputs": [],
   "source": [
    "len(all_audio_features)"
   ]
  },
  {
   "cell_type": "code",
   "execution_count": null,
   "metadata": {},
   "outputs": [],
   "source": [
    "import mysql.connector\n",
    "from mysql.connector import errorcode\n"
   ]
  },
  {
   "cell_type": "code",
   "execution_count": null,
   "metadata": {},
   "outputs": [],
   "source": [
    "all_audio_features[3][0]"
   ]
  },
  {
   "cell_type": "code",
   "execution_count": null,
   "metadata": {},
   "outputs": [],
   "source": [
    "all_audio_features_pd = pd.DataFrame(all_audio_features)"
   ]
  },
  {
   "cell_type": "code",
   "execution_count": null,
   "metadata": {},
   "outputs": [],
   "source": [
    "all_audio_features_pd.to_csv('all_audio_features')"
   ]
  },
  {
   "cell_type": "code",
   "execution_count": null,
   "metadata": {},
   "outputs": [],
   "source": [
    "pwd"
   ]
  },
  {
   "cell_type": "code",
   "execution_count": null,
   "metadata": {},
   "outputs": [],
   "source": [
    "cnx = mysql.connector .connect(\n",
    "    host = 'robsdb-1.ca2gvew1dd58.us-east-2.rds.amazonaws.com',\n",
    "    user = 'owen',\n",
    "    password = 'owen'\n",
    ")"
   ]
  },
  {
   "cell_type": "code",
   "execution_count": null,
   "metadata": {},
   "outputs": [],
   "source": [
    "cursor = cnx.cursor()"
   ]
  },
  {
   "cell_type": "code",
   "execution_count": null,
   "metadata": {},
   "outputs": [],
   "source": [
    "cursor.execute('''USE spotify''')"
   ]
  },
  {
   "cell_type": "code",
   "execution_count": null,
   "metadata": {},
   "outputs": [],
   "source": [
    "create=  (  \n",
    "        '''CREATE TABLE audio_features (\n",
    "          id VARCHAR(100),\n",
    "          danceability FLOAT(11),\n",
    "          key INTEGER(11),\n",
    "          energy FLOAT(11),\n",
    "          loudness FLOAT(11),\n",
    "          mode FLOAT(11),  \n",
    "          speechiness FLOAT(11),\n",
    "          acousticness FLOAT(11),\n",
    "          instrumentalness FLOAT(11),\n",
    "          liveness FLOAT(11),\n",
    "          valence FLOAT(11),\n",
    "          tempo FLOAT(11),\n",
    "          duration FLOAT(11),\n",
    "          time_signature FLOAT(11), \n",
    "          PRIMARY KEY (id))''')\n",
    "        \n",
    "cursor.execute(create)"
   ]
  },
  {
   "cell_type": "code",
   "execution_count": null,
   "metadata": {},
   "outputs": [],
   "source": []
  },
  {
   "cell_type": "code",
   "execution_count": null,
   "metadata": {},
   "outputs": [],
   "source": [
    "feature_tuples = []\n",
    "for i in range(len(all_audio_features)):\n",
    "    song_tuple = (all_audio_features[i][0]['id'],all_audio_features[i][0]['danceability'], \n",
    "                  all_audio_features[i][0]['energy'],all_audio_features[i][0]['loudness'],\n",
    "                  all_audio_features[i][0]['speechiness'],\n",
    "                  all_audio_features[i][0]['acousticness'], all_audio_features[i][0]['instrumentalness'],\n",
    "                  all_audio_features[i][0]['liveness'], all_audio_features[i][0]['valence'],\n",
    "                  all_audio_features[i][0]['tempo'], all_audio_features[i][0]['duration_ms'],\n",
    "                  all_audio_features[i][0]['time_signature'])\n",
    "    feature_tuples.append(song_tuple)\n",
    "    "
   ]
  },
  {
   "cell_type": "code",
   "execution_count": null,
   "metadata": {},
   "outputs": [],
   "source": [
    "feature_tuples[0]"
   ]
  },
  {
   "cell_type": "code",
   "execution_count": null,
   "metadata": {},
   "outputs": [],
   "source": [
    "stmt = \"\"\"\n",
    "        INSERT INTO audio_features (id, danceability, energy, loudness,\n",
    "        speechiness, acousticness, instrumentalness, liveness,\n",
    "        valence, tempo, duration, time_signature) VALUES (%s, %s, %s, %s, %s, %s, %s,%s, %s, %s, %s, %s)\n",
    "        \"\"\"\n",
    "cursor.executemany(stmt, feature_tuples)\n",
    "cnx.commit()"
   ]
  },
  {
   "cell_type": "code",
   "execution_count": null,
   "metadata": {},
   "outputs": [],
   "source": [
    "artist_info = []\n",
    "for thing in tqdm(unique_artists):\n",
    "    artist_info.append((spotify.search(thing)))"
   ]
  },
  {
   "cell_type": "code",
   "execution_count": null,
   "metadata": {},
   "outputs": [],
   "source": [
    "unique_artists[2]"
   ]
  },
  {
   "cell_type": "code",
   "execution_count": null,
   "metadata": {},
   "outputs": [],
   "source": [
    "#search function for wahc artist, lot of info\n",
    "#lot of info most of it not useful\n",
    "#useful total tracks per album, popularity, artist name, and \n",
    "\n",
    "artist_info[0]['tracks']['items']"
   ]
  },
  {
   "cell_type": "code",
   "execution_count": null,
   "metadata": {},
   "outputs": [],
   "source": [
    "#making of tuple of useful info from spotify search\n",
    "#these are search results so each query will return artists that are similar to keyword, only get first result \n",
    "#after first index, its a dictionary of only tracks\n",
    "#within tracks only useful is items, search data otherwise\n",
    "#within items is the indivudal albums\n",
    "\n",
    "#artist speicifc info\n",
    "artist_name = artist_info[1]['tracks']['items'][0]['artists'][0]['name']\n",
    "artist_id = artist_info[1]['tracks']['items'][0]['artists'][0]['id']\n",
    "\n",
    "#album specific info\n",
    "popularity_of_album = artist_info[0]['tracks']['items'][1]['popularity']\n",
    "explicit = artist_info[2]['tracks']['items'][2]['explicit']\n",
    "number_songs = artist_info[2]['tracks']['items'][2]['album']['total_tracks']\n",
    "album_id = artist_info[2]['tracks']['items'][2]['album']['id']\n",
    "album_name = artist_info[2]['tracks']['items'][3]['album']['name']\n",
    "release_date = artist_info[2]['tracks']['items'][3]['album']['release_date']\n",
    "\n",
    "#double for loop that creates a tuple for every album. One for loop for the artist and another one for each album "
   ]
  },
  {
   "cell_type": "code",
   "execution_count": null,
   "metadata": {
    "scrolled": true
   },
   "outputs": [],
   "source": [
    "album_tuples = []\n",
    "for i in artist_info:\n",
    "    try:\n",
    "        artist_name = i['tracks']['items'][0]['artists'][0]['name']\n",
    "        artist_id = i['tracks']['items'][0]['artists'][0]['id']\n",
    "        for j in i['tracks']['items']:\n",
    "            popularity_of_album = j['popularity']\n",
    "            explicit = j['explicit']\n",
    "            number_songs = j['track_number']\n",
    "            album_id = j['album']['id']\n",
    "            album_name = j['album']['name']\n",
    "            release_date = j['album']['release_date']\n",
    "            album_tuple = (artist_name,artist_id, popularity_of_album,explicit,number_songs,album_id,album_name,release_date)\n",
    "            album_tuples.append(album_tuple)\n",
    "    except:\n",
    "        continue"
   ]
  },
  {
   "cell_type": "code",
   "execution_count": null,
   "metadata": {},
   "outputs": [],
   "source": [
    "unique_album_tuples = list(set(album_tuples))"
   ]
  },
  {
   "cell_type": "code",
   "execution_count": null,
   "metadata": {},
   "outputs": [],
   "source": [
    "stmt = \"\"\"\n",
    "        INSERT INTO album_features (artist_name, artist_id, popularity, explicit,\n",
    "        num_songs, album_id, album_name, release_date)\n",
    "        VALUES (%s, %s, %s, %s, %s, %s, %s, %s)\n",
    "        \"\"\"\n",
    "cursor.executemany(stmt, unique_album_tuples)\n",
    "cnx.commit()\n"
   ]
  },
  {
   "cell_type": "code",
   "execution_count": 33,
   "metadata": {},
   "outputs": [
    {
     "name": "stdout",
     "output_type": "stream",
     "text": [
      "/Users/OwenPeng/nyc-ds-111819-lectures\n"
     ]
    }
   ],
   "source": [
    "cd .."
   ]
  },
  {
   "cell_type": "code",
   "execution_count": 34,
   "metadata": {},
   "outputs": [],
   "source": [
    "weekly_features = pd.read_csv('weekly_features')"
   ]
  },
  {
   "cell_type": "code",
   "execution_count": 35,
   "metadata": {},
   "outputs": [
    {
     "data": {
      "text/plain": [
       "0       0.085\n",
       "1       0.390\n",
       "2       0.314\n",
       "3       0.092\n",
       "4       0.153\n",
       "        ...  \n",
       "3019    0.057\n",
       "3020    0.155\n",
       "3021    0.093\n",
       "3022    0.172\n",
       "3023    0.092\n",
       "Name: liveness, Length: 3024, dtype: float64"
      ]
     },
     "execution_count": 35,
     "metadata": {},
     "output_type": "execute_result"
    }
   ],
   "source": [
    "weekly_features['liveness']"
   ]
  },
  {
   "cell_type": "code",
   "execution_count": null,
   "metadata": {},
   "outputs": [],
   "source": [
    "cursor.execute('''SELECT * FROM spotify.spotify_weekly''')\n",
    "spotify_weekly = cursor.fetchall()"
   ]
  },
  {
   "cell_type": "code",
   "execution_count": null,
   "metadata": {},
   "outputs": [],
   "source": [
    "cursor.execute(\"\"\"SELECT * from spotify.spotify_weekly\n",
    "\"\"\")\n",
    "spotify_weekly = pd.DataFrame(cursor.fetchall())\n",
    "spotify_weekly.columns = [x[0] for x in cursor.description]"
   ]
  },
  {
   "cell_type": "code",
   "execution_count": null,
   "metadata": {},
   "outputs": [],
   "source": [
    "spotify_weekly"
   ]
  },
  {
   "cell_type": "code",
   "execution_count": null,
   "metadata": {},
   "outputs": [],
   "source": [
    "spotify_weekly['chart_position']==1"
   ]
  },
  {
   "cell_type": "code",
   "execution_count": null,
   "metadata": {},
   "outputs": [],
   "source": [
    "import matplotlib.pyplot as plt"
   ]
  },
  {
   "cell_type": "code",
   "execution_count": null,
   "metadata": {},
   "outputs": [],
   "source": [
    "spotify_weekly[spotify_weekly['track_name']=='Shape of You']"
   ]
  },
  {
   "cell_type": "code",
   "execution_count": 38,
   "metadata": {},
   "outputs": [],
   "source": [
    "import numpy as np\n",
    "import scipy as sp\n",
    "import statsmodels.api as sm\n",
    "from statsmodels.formula.api import ols"
   ]
  },
  {
   "cell_type": "code",
   "execution_count": null,
   "metadata": {},
   "outputs": [],
   "source": [
    "top_hundred = weekly_features[weekly_features['chart_position']<=100][['danceability', 'energy', 'loudness',\n",
    "       'speechiness', 'acousticness', 'instrumentalness', 'liveness',\n",
    "       'valence', 'tempo', 'duration', 'time_signature']].describe()"
   ]
  },
  {
   "cell_type": "code",
   "execution_count": null,
   "metadata": {},
   "outputs": [],
   "source": [
    "bottom_hundred = weekly_features[weekly_features['chart_position']>=100][['danceability', 'energy', 'loudness',\n",
    "       'speechiness', 'acousticness', 'instrumentalness', 'liveness',\n",
    "       'valence', 'tempo', 'duration', 'time_signature']].describe()"
   ]
  },
  {
   "cell_type": "code",
   "execution_count": null,
   "metadata": {},
   "outputs": [],
   "source": [
    "weekly_features[['danceability', 'energy', 'loudness',\n",
    "       'speechiness', 'acousticness', 'instrumentalness', 'liveness',\n",
    "       'valence', 'tempo', 'duration', 'time_signature']].describe()"
   ]
  },
  {
   "cell_type": "code",
   "execution_count": null,
   "metadata": {},
   "outputs": [],
   "source": [
    "weekly_features[weekly_features['chart_position']==200][['danceability', 'energy', 'loudness',\n",
    "       'speechiness', 'acousticness', 'instrumentalness', 'liveness',\n",
    "       'valence', 'tempo', 'duration', 'time_signature']].mean()"
   ]
  },
  {
   "cell_type": "code",
   "execution_count": null,
   "metadata": {},
   "outputs": [],
   "source": [
    "rank1 = weekly_features[weekly_features['chart_position']==1][['danceability', 'energy', 'loudness',\n",
    "       'speechiness', 'acousticness', 'instrumentalness', 'liveness',\n",
    "       'valence', 'tempo', 'duration', 'time_signature']]\n",
    "\n",
    "rank2 = weekly_features[weekly_features['chart_position']==2][['danceability', 'energy', 'loudness',\n",
    "       'speechiness', 'acousticness', 'instrumentalness', 'liveness',\n",
    "       'valence', 'tempo', 'duration', 'time_signature']]"
   ]
  },
  {
   "cell_type": "code",
   "execution_count": null,
   "metadata": {},
   "outputs": [],
   "source": [
    "rank1"
   ]
  },
  {
   "cell_type": "code",
   "execution_count": null,
   "metadata": {},
   "outputs": [],
   "source": [
    "dummies = pd.get_dummies(weekly_features['chart_position'])"
   ]
  },
  {
   "cell_type": "code",
   "execution_count": null,
   "metadata": {},
   "outputs": [],
   "source": [
    "dummies"
   ]
  },
  {
   "cell_type": "code",
   "execution_count": null,
   "metadata": {},
   "outputs": [],
   "source": [
    "formula = 'chart_position ~ C(duration)'\n",
    "\n",
    "\n",
    "lm = ols(formula, weekly_features[['chart_position','duration']]).fit()\n",
    "\n",
    "table = sm.stats.anova_lm(lm, typ=2)\n",
    "print(table)"
   ]
  },
  {
   "cell_type": "code",
   "execution_count": null,
   "metadata": {},
   "outputs": [],
   "source": [
    "formula =  'num_of_streams ~ C(danceability)'\n",
    "\n",
    "\n",
    "lm = ols(formula, weekly_features[['num_of_streams','danceability']]).fit()\n",
    "table = sm.stats.anova_lm(lm, typ=2)\n",
    "print(table)"
   ]
  },
  {
   "cell_type": "code",
   "execution_count": null,
   "metadata": {},
   "outputs": [],
   "source": [
    "formula =  'chart_position ~ C(loudness)'\n",
    "\n",
    "\n",
    "lm = ols(formula, weekly_features[['chart_position','loudness']]).fit()\n",
    "table = sm.stats.anova_lm(lm, typ=2)\n",
    "print(table)"
   ]
  },
  {
   "cell_type": "code",
   "execution_count": null,
   "metadata": {},
   "outputs": [],
   "source": [
    "weekly_features['duration'].hist()"
   ]
  },
  {
   "cell_type": "code",
   "execution_count": null,
   "metadata": {},
   "outputs": [],
   "source": [
    "weekly_features['loudness'].hist()"
   ]
  },
  {
   "cell_type": "code",
   "execution_count": null,
   "metadata": {},
   "outputs": [],
   "source": [
    "weekly_features['acousticness'].hist()"
   ]
  },
  {
   "cell_type": "code",
   "execution_count": null,
   "metadata": {},
   "outputs": [],
   "source": [
    "weekly_features['num_times'].hist()"
   ]
  },
  {
   "cell_type": "code",
   "execution_count": null,
   "metadata": {},
   "outputs": [],
   "source": [
    "weekly_features['top_song'] = np.where(weekly_features['chart_position']==1, 1,0)"
   ]
  },
  {
   "cell_type": "code",
   "execution_count": null,
   "metadata": {},
   "outputs": [],
   "source": [
    "formula =  'top_song ~ C(loudness)'\n",
    "\n",
    "\n",
    "lm = ols(formula, weekly_features[['top_song','loudness']]).fit()\n",
    "table = sm.stats.anova_lm(lm, typ=2)\n",
    "print(table)"
   ]
  },
  {
   "cell_type": "code",
   "execution_count": null,
   "metadata": {},
   "outputs": [],
   "source": [
    "formula =  'top_song ~ C(energy)'\n",
    "\n",
    "\n",
    "lm = ols(formula, weekly_features[['top_song','energy']]).fit()\n",
    "table = sm.stats.anova_lm(lm, typ=2)\n",
    "print(table)"
   ]
  },
  {
   "cell_type": "code",
   "execution_count": null,
   "metadata": {},
   "outputs": [],
   "source": [
    "formula =  'top_song ~ C(acousticness)'\n",
    "\n",
    "\n",
    "lm = ols(formula, weekly_features[['top_song','acousticness']]).fit()\n",
    "table = sm.stats.anova_lm(lm, typ=2)\n",
    "print(table)"
   ]
  },
  {
   "cell_type": "code",
   "execution_count": null,
   "metadata": {},
   "outputs": [],
   "source": [
    "formula =  'top_song ~ C(liveness)'\n",
    "\n",
    "\n",
    "lm = ols(formula, weekly_features[['top_song','liveness']]).fit()\n",
    "table = sm.stats.anova_lm(lm, typ=2)\n",
    "print(table)"
   ]
  },
  {
   "cell_type": "code",
   "execution_count": null,
   "metadata": {},
   "outputs": [],
   "source": [
    "top_hundred"
   ]
  },
  {
   "cell_type": "code",
   "execution_count": null,
   "metadata": {},
   "outputs": [],
   "source": [
    "import scipy.stats as stats"
   ]
  },
  {
   "cell_type": "code",
   "execution_count": null,
   "metadata": {},
   "outputs": [],
   "source": [
    "top_ten"
   ]
  },
  {
   "cell_type": "code",
   "execution_count": null,
   "metadata": {},
   "outputs": [],
   "source": [
    "top_ten = weekly_features[weekly_features['chart_position']<=10]"
   ]
  },
  {
   "cell_type": "code",
   "execution_count": null,
   "metadata": {},
   "outputs": [],
   "source": [
    "top_ten['liveness']"
   ]
  },
  {
   "cell_type": "code",
   "execution_count": null,
   "metadata": {},
   "outputs": [],
   "source": [
    "stats.ttest_1samp(top_ten['liveness'], weekly_features['liveness'].mean())"
   ]
  },
  {
   "cell_type": "code",
   "execution_count": null,
   "metadata": {},
   "outputs": [],
   "source": []
  },
  {
   "cell_type": "code",
   "execution_count": null,
   "metadata": {},
   "outputs": [],
   "source": [
    "stats.ttest_1samp(top_ten['energy'], weekly_features['energy'].mean())"
   ]
  },
  {
   "cell_type": "code",
   "execution_count": null,
   "metadata": {},
   "outputs": [],
   "source": [
    "stats.ttest_1samp(top_ten['danceability'], weekly_features['danceability'].mean())"
   ]
  },
  {
   "cell_type": "code",
   "execution_count": null,
   "metadata": {},
   "outputs": [],
   "source": [
    "stats.ttest_1samp(top_ten['speechiness'], weekly_features['speechiness'].mean())"
   ]
  },
  {
   "cell_type": "code",
   "execution_count": null,
   "metadata": {},
   "outputs": [],
   "source": [
    "stats.ttest_1samp(top_ten['duration'], weekly_features['duration'].mean())"
   ]
  },
  {
   "cell_type": "code",
   "execution_count": null,
   "metadata": {},
   "outputs": [],
   "source": [
    "stats.ttest_1samp(top_ten['tempo'], weekly_features['tempo'].mean())"
   ]
  },
  {
   "cell_type": "code",
   "execution_count": null,
   "metadata": {},
   "outputs": [],
   "source": [
    "stats.ttest_1samp(top_ten['valence'], weekly_features['valence'].mean())"
   ]
  },
  {
   "cell_type": "code",
   "execution_count": null,
   "metadata": {},
   "outputs": [],
   "source": [
    "stats.ttest_1samp(top_ten['acousticness'], weekly_features['acousticness'].mean())"
   ]
  },
  {
   "cell_type": "code",
   "execution_count": null,
   "metadata": {},
   "outputs": [],
   "source": [
    "stats.ttest_1samp(top_ten['instrumentalness'], weekly_features['instrumentalness'].mean())"
   ]
  },
  {
   "cell_type": "code",
   "execution_count": null,
   "metadata": {},
   "outputs": [],
   "source": [
    "stats.ttest_1samp(top_ten['loudness'], weekly_features['loudness'].mean())"
   ]
  },
  {
   "cell_type": "code",
   "execution_count": null,
   "metadata": {},
   "outputs": [],
   "source": [
    "weekly_features[weekly_features['track_name']=='Shape of You'].mean() - weekly_features.mean()"
   ]
  },
  {
   "cell_type": "code",
   "execution_count": null,
   "metadata": {},
   "outputs": [],
   "source": [
    "weekly_features.mean()"
   ]
  },
  {
   "cell_type": "code",
   "execution_count": null,
   "metadata": {},
   "outputs": [],
   "source": [
    "top_ten.mean() - weekly_features.mean()"
   ]
  },
  {
   "cell_type": "code",
   "execution_count": null,
   "metadata": {},
   "outputs": [],
   "source": [
    "weekly_features.describe()"
   ]
  },
  {
   "cell_type": "code",
   "execution_count": null,
   "metadata": {},
   "outputs": [],
   "source": [
    "top_ten.describe()"
   ]
  },
  {
   "cell_type": "code",
   "execution_count": null,
   "metadata": {},
   "outputs": [],
   "source": [
    "spotify_weekly"
   ]
  },
  {
   "cell_type": "code",
   "execution_count": null,
   "metadata": {},
   "outputs": [],
   "source": [
    "cursor.execute('''SELECT * FROM spotify.audio_features''')\n",
    "audio_features = pd.DataFrame(cursor.fetchall())"
   ]
  },
  {
   "cell_type": "code",
   "execution_count": null,
   "metadata": {},
   "outputs": [],
   "source": [
    "spotify_dupes = pd.merge(audio_features, spotify_weekly, how='outer', on='id')"
   ]
  },
  {
   "cell_type": "code",
   "execution_count": null,
   "metadata": {},
   "outputs": [],
   "source": [
    "audio_features.columns = [x[0] for x in cursor.description]"
   ]
  },
  {
   "cell_type": "code",
   "execution_count": 37,
   "metadata": {},
   "outputs": [],
   "source": [
    "import math\n",
    "import statistics"
   ]
  },
  {
   "cell_type": "code",
   "execution_count": null,
   "metadata": {},
   "outputs": [],
   "source": [
    "top_ten['liveness'].mean()"
   ]
  },
  {
   "cell_type": "code",
   "execution_count": null,
   "metadata": {},
   "outputs": [],
   "source": [
    "statistics.stdev(top_ten['liveness'])"
   ]
  },
  {
   "cell_type": "code",
   "execution_count": null,
   "metadata": {},
   "outputs": [],
   "source": [
    "spotify_dupes['liveness'].mean()"
   ]
  },
  {
   "cell_type": "code",
   "execution_count": null,
   "metadata": {},
   "outputs": [],
   "source": [
    "statistics.stdev(spotify_dupes['liveness'])"
   ]
  },
  {
   "cell_type": "code",
   "execution_count": null,
   "metadata": {},
   "outputs": [],
   "source": [
    "stats.ttest_1samp(top_ten_liveness , 0.1652918064516129 )"
   ]
  },
  {
   "cell_type": "code",
   "execution_count": null,
   "metadata": {},
   "outputs": [],
   "source": []
  },
  {
   "cell_type": "code",
   "execution_count": null,
   "metadata": {},
   "outputs": [],
   "source": [
    "top_ten_liveness = []\n",
    "for num in top_ten['liveness']*1000:\n",
    "    int(num)\n",
    "    top_ten_liveness.append(num)"
   ]
  },
  {
   "cell_type": "code",
   "execution_count": null,
   "metadata": {},
   "outputs": [],
   "source": [
    "total_liveness = []\n",
    "for num in spotify_dupes['liveness']*1000:\n",
    "    int(num)\n",
    "    total_liveness.append(num)"
   ]
  },
  {
   "cell_type": "code",
   "execution_count": null,
   "metadata": {},
   "outputs": [],
   "source": [
    "weekly_features['energy']"
   ]
  },
  {
   "cell_type": "markdown",
   "metadata": {},
   "source": [
    "## Presentation Statistics"
   ]
  },
  {
   "cell_type": "code",
   "execution_count": null,
   "metadata": {},
   "outputs": [],
   "source": [
    "stats.ttest_1samp(top_ten['liveness'], weekly_features['liveness'].mean())"
   ]
  },
  {
   "cell_type": "code",
   "execution_count": null,
   "metadata": {},
   "outputs": [],
   "source": [
    "stats.ttest_1samp(top_ten['energy'], weekly_features['energy'].mean())"
   ]
  },
  {
   "cell_type": "code",
   "execution_count": null,
   "metadata": {},
   "outputs": [],
   "source": [
    "stats.ttest_1samp(top_ten['loudness'], weekly_features['loudness'].mean())"
   ]
  },
  {
   "cell_type": "code",
   "execution_count": null,
   "metadata": {},
   "outputs": [],
   "source": [
    "stats.ttest_1samp(top_ten['tempo'], weekly_features['tempo'].mean())"
   ]
  },
  {
   "cell_type": "code",
   "execution_count": null,
   "metadata": {},
   "outputs": [],
   "source": [
    "top_ten['liveness'].hist()"
   ]
  },
  {
   "cell_type": "code",
   "execution_count": null,
   "metadata": {},
   "outputs": [],
   "source": [
    "weekly_features['liveness'].hist()"
   ]
  },
  {
   "cell_type": "code",
   "execution_count": null,
   "metadata": {},
   "outputs": [],
   "source": [
    "top_ten['loudness'].hist()"
   ]
  },
  {
   "cell_type": "code",
   "execution_count": null,
   "metadata": {},
   "outputs": [],
   "source": [
    "weekly_features['loudness'].hist()"
   ]
  },
  {
   "cell_type": "code",
   "execution_count": null,
   "metadata": {},
   "outputs": [],
   "source": [
    "import seaborn as sns"
   ]
  },
  {
   "cell_type": "code",
   "execution_count": null,
   "metadata": {},
   "outputs": [],
   "source": [
    "sns.kdeplot(weekly_features['danceability'])\n",
    "sns.kdeplot(weekly_features['energy'])\n",
    "sns.kdeplot(weekly_features['liveness'])\n",
    "sns.kdeplot(weekly_features['valence'])\n",
    "sns.kdeplot(weekly_features['acousticness'])\n",
    "sns.kdeplot(weekly_features['instrumentalness'])\n",
    "sns.kdeplot(weekly_features['speechiness'])\n",
    "\n",
    "\n",
    "\n",
    "\n",
    "\n"
   ]
  },
  {
   "cell_type": "code",
   "execution_count": null,
   "metadata": {},
   "outputs": [],
   "source": [
    "sns.kdeplot(weekly_features['liveness'])\n",
    "sns.kdeplot(top_ten['liveness'])"
   ]
  },
  {
   "cell_type": "code",
   "execution_count": null,
   "metadata": {},
   "outputs": [],
   "source": [
    "sns.kdeplot(weekly_features['loudness'])\n",
    "sns.kdeplot(top_ten['loudness'])"
   ]
  },
  {
   "cell_type": "code",
   "execution_count": 36,
   "metadata": {},
   "outputs": [
    {
     "data": {
      "text/html": [
       "<div>\n",
       "<style scoped>\n",
       "    .dataframe tbody tr th:only-of-type {\n",
       "        vertical-align: middle;\n",
       "    }\n",
       "\n",
       "    .dataframe tbody tr th {\n",
       "        vertical-align: top;\n",
       "    }\n",
       "\n",
       "    .dataframe thead th {\n",
       "        text-align: right;\n",
       "    }\n",
       "</style>\n",
       "<table border=\"1\" class=\"dataframe\">\n",
       "  <thead>\n",
       "    <tr style=\"text-align: right;\">\n",
       "      <th></th>\n",
       "      <th>Unnamed: 0</th>\n",
       "      <th>id</th>\n",
       "      <th>week_of</th>\n",
       "      <th>chart_position</th>\n",
       "      <th>track_name</th>\n",
       "      <th>artist</th>\n",
       "      <th>num_of_streams</th>\n",
       "      <th>num_times</th>\n",
       "      <th>danceability</th>\n",
       "      <th>energy</th>\n",
       "      <th>loudness</th>\n",
       "      <th>speechiness</th>\n",
       "      <th>acousticness</th>\n",
       "      <th>instrumentalness</th>\n",
       "      <th>liveness</th>\n",
       "      <th>valence</th>\n",
       "      <th>tempo</th>\n",
       "      <th>duration</th>\n",
       "      <th>time_signature</th>\n",
       "    </tr>\n",
       "  </thead>\n",
       "  <tbody>\n",
       "    <tr>\n",
       "      <td>0</td>\n",
       "      <td>0</td>\n",
       "      <td>000xQL6tZNLJzIrtIgxqSl</td>\n",
       "      <td>36</td>\n",
       "      <td>57</td>\n",
       "      <td>Still Got Time</td>\n",
       "      <td>ZAYN</td>\n",
       "      <td>8368114</td>\n",
       "      <td>15</td>\n",
       "      <td>0.748</td>\n",
       "      <td>0.627</td>\n",
       "      <td>-6.029</td>\n",
       "      <td>0.064</td>\n",
       "      <td>0.131</td>\n",
       "      <td>0.0</td>\n",
       "      <td>0.085</td>\n",
       "      <td>0.524</td>\n",
       "      <td>120.963</td>\n",
       "      <td>188491</td>\n",
       "      <td>4.0</td>\n",
       "    </tr>\n",
       "    <tr>\n",
       "      <td>1</td>\n",
       "      <td>1</td>\n",
       "      <td>003eoIwxETJujVWmNFMoZy</td>\n",
       "      <td>11</td>\n",
       "      <td>155</td>\n",
       "      <td>Growing Pains</td>\n",
       "      <td>Alessia Cara</td>\n",
       "      <td>4358091</td>\n",
       "      <td>2</td>\n",
       "      <td>0.353</td>\n",
       "      <td>0.755</td>\n",
       "      <td>-6.276</td>\n",
       "      <td>0.733</td>\n",
       "      <td>0.082</td>\n",
       "      <td>0.0</td>\n",
       "      <td>0.390</td>\n",
       "      <td>0.437</td>\n",
       "      <td>191.153</td>\n",
       "      <td>193680</td>\n",
       "      <td>4.0</td>\n",
       "    </tr>\n",
       "    <tr>\n",
       "      <td>2</td>\n",
       "      <td>2</td>\n",
       "      <td>00B7TZ0Xawar6NZ00JFomN</td>\n",
       "      <td>87</td>\n",
       "      <td>140</td>\n",
       "      <td>Best Life (feat. Chance The Rapper)</td>\n",
       "      <td>Cardi B</td>\n",
       "      <td>4743908</td>\n",
       "      <td>2</td>\n",
       "      <td>0.620</td>\n",
       "      <td>0.625</td>\n",
       "      <td>-7.438</td>\n",
       "      <td>0.553</td>\n",
       "      <td>0.287</td>\n",
       "      <td>0.0</td>\n",
       "      <td>0.314</td>\n",
       "      <td>0.665</td>\n",
       "      <td>167.911</td>\n",
       "      <td>284856</td>\n",
       "      <td>4.0</td>\n",
       "    </tr>\n",
       "    <tr>\n",
       "      <td>3</td>\n",
       "      <td>3</td>\n",
       "      <td>00EPIEnX1JFjff8sC6bccd</td>\n",
       "      <td>8</td>\n",
       "      <td>70</td>\n",
       "      <td>No Me Acuerdo</td>\n",
       "      <td>Thalía</td>\n",
       "      <td>7460620</td>\n",
       "      <td>16</td>\n",
       "      <td>0.836</td>\n",
       "      <td>0.799</td>\n",
       "      <td>-4.247</td>\n",
       "      <td>0.087</td>\n",
       "      <td>0.187</td>\n",
       "      <td>0.0</td>\n",
       "      <td>0.092</td>\n",
       "      <td>0.772</td>\n",
       "      <td>94.033</td>\n",
       "      <td>217653</td>\n",
       "      <td>4.0</td>\n",
       "    </tr>\n",
       "    <tr>\n",
       "      <td>4</td>\n",
       "      <td>4</td>\n",
       "      <td>00gpGR84M27moP7AFuqHIx</td>\n",
       "      <td>111</td>\n",
       "      <td>130</td>\n",
       "      <td>Bounce Out With That FT. YBN Nahmir</td>\n",
       "      <td>DJ A1</td>\n",
       "      <td>4913180</td>\n",
       "      <td>1</td>\n",
       "      <td>0.857</td>\n",
       "      <td>0.560</td>\n",
       "      <td>-8.278</td>\n",
       "      <td>0.173</td>\n",
       "      <td>0.043</td>\n",
       "      <td>0.0</td>\n",
       "      <td>0.153</td>\n",
       "      <td>0.482</td>\n",
       "      <td>94.949</td>\n",
       "      <td>91011</td>\n",
       "      <td>4.0</td>\n",
       "    </tr>\n",
       "    <tr>\n",
       "      <td>...</td>\n",
       "      <td>...</td>\n",
       "      <td>...</td>\n",
       "      <td>...</td>\n",
       "      <td>...</td>\n",
       "      <td>...</td>\n",
       "      <td>...</td>\n",
       "      <td>...</td>\n",
       "      <td>...</td>\n",
       "      <td>...</td>\n",
       "      <td>...</td>\n",
       "      <td>...</td>\n",
       "      <td>...</td>\n",
       "      <td>...</td>\n",
       "      <td>...</td>\n",
       "      <td>...</td>\n",
       "      <td>...</td>\n",
       "      <td>...</td>\n",
       "      <td>...</td>\n",
       "      <td>...</td>\n",
       "    </tr>\n",
       "    <tr>\n",
       "      <td>3019</td>\n",
       "      <td>3019</td>\n",
       "      <td>7yyRTcZmCiyzzJlNzGC9Ol</td>\n",
       "      <td>0</td>\n",
       "      <td>113</td>\n",
       "      <td>Broccoli (feat. Lil Yachty)</td>\n",
       "      <td>DRAM</td>\n",
       "      <td>4738640</td>\n",
       "      <td>27</td>\n",
       "      <td>0.886</td>\n",
       "      <td>0.525</td>\n",
       "      <td>-7.390</td>\n",
       "      <td>0.131</td>\n",
       "      <td>0.236</td>\n",
       "      <td>0.0</td>\n",
       "      <td>0.057</td>\n",
       "      <td>0.708</td>\n",
       "      <td>145.990</td>\n",
       "      <td>225205</td>\n",
       "      <td>4.0</td>\n",
       "    </tr>\n",
       "    <tr>\n",
       "      <td>3020</td>\n",
       "      <td>3020</td>\n",
       "      <td>7zgqtptZvhf8GEmdsM2vp2</td>\n",
       "      <td>151</td>\n",
       "      <td>13</td>\n",
       "      <td>...Ready For It?</td>\n",
       "      <td>Taylor Swift</td>\n",
       "      <td>17583532</td>\n",
       "      <td>1</td>\n",
       "      <td>0.615</td>\n",
       "      <td>0.779</td>\n",
       "      <td>-6.454</td>\n",
       "      <td>0.135</td>\n",
       "      <td>0.067</td>\n",
       "      <td>0.0</td>\n",
       "      <td>0.155</td>\n",
       "      <td>0.453</td>\n",
       "      <td>160.000</td>\n",
       "      <td>208198</td>\n",
       "      <td>4.0</td>\n",
       "    </tr>\n",
       "    <tr>\n",
       "      <td>3021</td>\n",
       "      <td>3021</td>\n",
       "      <td>7zTx8ePYAmPFQuxP3xlXZn</td>\n",
       "      <td>1</td>\n",
       "      <td>137</td>\n",
       "      <td>Light</td>\n",
       "      <td>San Holo</td>\n",
       "      <td>3524343</td>\n",
       "      <td>9</td>\n",
       "      <td>0.570</td>\n",
       "      <td>0.763</td>\n",
       "      <td>-4.137</td>\n",
       "      <td>0.057</td>\n",
       "      <td>0.086</td>\n",
       "      <td>0.0</td>\n",
       "      <td>0.093</td>\n",
       "      <td>0.430</td>\n",
       "      <td>150.088</td>\n",
       "      <td>239853</td>\n",
       "      <td>4.0</td>\n",
       "    </tr>\n",
       "    <tr>\n",
       "      <td>3022</td>\n",
       "      <td>3022</td>\n",
       "      <td>7zVCrzzEJU7u24sbJPXA5W</td>\n",
       "      <td>13</td>\n",
       "      <td>146</td>\n",
       "      <td>What Ifs</td>\n",
       "      <td>Kane Brown</td>\n",
       "      <td>4028775</td>\n",
       "      <td>4</td>\n",
       "      <td>0.612</td>\n",
       "      <td>0.799</td>\n",
       "      <td>-4.603</td>\n",
       "      <td>0.028</td>\n",
       "      <td>0.009</td>\n",
       "      <td>0.0</td>\n",
       "      <td>0.172</td>\n",
       "      <td>0.687</td>\n",
       "      <td>125.976</td>\n",
       "      <td>188253</td>\n",
       "      <td>4.0</td>\n",
       "    </tr>\n",
       "    <tr>\n",
       "      <td>3023</td>\n",
       "      <td>3023</td>\n",
       "      <td>7zxRMhXxJMQCeDDg0rKAVo</td>\n",
       "      <td>63</td>\n",
       "      <td>171</td>\n",
       "      <td>Some Way</td>\n",
       "      <td>NAV</td>\n",
       "      <td>3353225</td>\n",
       "      <td>2</td>\n",
       "      <td>0.744</td>\n",
       "      <td>0.715</td>\n",
       "      <td>-6.103</td>\n",
       "      <td>0.351</td>\n",
       "      <td>0.101</td>\n",
       "      <td>0.0</td>\n",
       "      <td>0.092</td>\n",
       "      <td>0.340</td>\n",
       "      <td>154.962</td>\n",
       "      <td>179773</td>\n",
       "      <td>4.0</td>\n",
       "    </tr>\n",
       "  </tbody>\n",
       "</table>\n",
       "<p>3024 rows × 19 columns</p>\n",
       "</div>"
      ],
      "text/plain": [
       "      Unnamed: 0                      id  week_of  chart_position  \\\n",
       "0              0  000xQL6tZNLJzIrtIgxqSl       36              57   \n",
       "1              1  003eoIwxETJujVWmNFMoZy       11             155   \n",
       "2              2  00B7TZ0Xawar6NZ00JFomN       87             140   \n",
       "3              3  00EPIEnX1JFjff8sC6bccd        8              70   \n",
       "4              4  00gpGR84M27moP7AFuqHIx      111             130   \n",
       "...          ...                     ...      ...             ...   \n",
       "3019        3019  7yyRTcZmCiyzzJlNzGC9Ol        0             113   \n",
       "3020        3020  7zgqtptZvhf8GEmdsM2vp2      151              13   \n",
       "3021        3021  7zTx8ePYAmPFQuxP3xlXZn        1             137   \n",
       "3022        3022  7zVCrzzEJU7u24sbJPXA5W       13             146   \n",
       "3023        3023  7zxRMhXxJMQCeDDg0rKAVo       63             171   \n",
       "\n",
       "                               track_name        artist  num_of_streams  \\\n",
       "0                          Still Got Time          ZAYN         8368114   \n",
       "1                           Growing Pains  Alessia Cara         4358091   \n",
       "2     Best Life (feat. Chance The Rapper)       Cardi B         4743908   \n",
       "3                           No Me Acuerdo        Thalía         7460620   \n",
       "4     Bounce Out With That FT. YBN Nahmir         DJ A1         4913180   \n",
       "...                                   ...           ...             ...   \n",
       "3019          Broccoli (feat. Lil Yachty)          DRAM         4738640   \n",
       "3020                     ...Ready For It?  Taylor Swift        17583532   \n",
       "3021                                Light      San Holo         3524343   \n",
       "3022                             What Ifs    Kane Brown         4028775   \n",
       "3023                             Some Way           NAV         3353225   \n",
       "\n",
       "      num_times  danceability  energy  loudness  speechiness  acousticness  \\\n",
       "0            15         0.748   0.627    -6.029        0.064         0.131   \n",
       "1             2         0.353   0.755    -6.276        0.733         0.082   \n",
       "2             2         0.620   0.625    -7.438        0.553         0.287   \n",
       "3            16         0.836   0.799    -4.247        0.087         0.187   \n",
       "4             1         0.857   0.560    -8.278        0.173         0.043   \n",
       "...         ...           ...     ...       ...          ...           ...   \n",
       "3019         27         0.886   0.525    -7.390        0.131         0.236   \n",
       "3020          1         0.615   0.779    -6.454        0.135         0.067   \n",
       "3021          9         0.570   0.763    -4.137        0.057         0.086   \n",
       "3022          4         0.612   0.799    -4.603        0.028         0.009   \n",
       "3023          2         0.744   0.715    -6.103        0.351         0.101   \n",
       "\n",
       "      instrumentalness  liveness  valence    tempo  duration  time_signature  \n",
       "0                  0.0     0.085    0.524  120.963    188491             4.0  \n",
       "1                  0.0     0.390    0.437  191.153    193680             4.0  \n",
       "2                  0.0     0.314    0.665  167.911    284856             4.0  \n",
       "3                  0.0     0.092    0.772   94.033    217653             4.0  \n",
       "4                  0.0     0.153    0.482   94.949     91011             4.0  \n",
       "...                ...       ...      ...      ...       ...             ...  \n",
       "3019               0.0     0.057    0.708  145.990    225205             4.0  \n",
       "3020               0.0     0.155    0.453  160.000    208198             4.0  \n",
       "3021               0.0     0.093    0.430  150.088    239853             4.0  \n",
       "3022               0.0     0.172    0.687  125.976    188253             4.0  \n",
       "3023               0.0     0.092    0.340  154.962    179773             4.0  \n",
       "\n",
       "[3024 rows x 19 columns]"
      ]
     },
     "execution_count": 36,
     "metadata": {},
     "output_type": "execute_result"
    }
   ],
   "source": [
    "weekly_features"
   ]
  },
  {
   "cell_type": "code",
   "execution_count": null,
   "metadata": {},
   "outputs": [],
   "source": []
  }
 ],
 "metadata": {
  "kernelspec": {
   "display_name": "Python 3",
   "language": "python",
   "name": "python3"
  },
  "language_info": {
   "codemirror_mode": {
    "name": "ipython",
    "version": 3
   },
   "file_extension": ".py",
   "mimetype": "text/x-python",
   "name": "python",
   "nbconvert_exporter": "python",
   "pygments_lexer": "ipython3",
   "version": "3.7.4"
  }
 },
 "nbformat": 4,
 "nbformat_minor": 2
}
