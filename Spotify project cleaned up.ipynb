{
 "cells": [
  {
   "cell_type": "code",
   "execution_count": 6,
   "metadata": {},
   "outputs": [],
   "source": [
    "import pandas as pd\n",
    "#concatonating all the csv files we downloaded from spotify\n",
    "import glob\n",
    "path = \"/Users/ruthmazurek/Desktop/flatiron_projects/Spotify/spotify-project/Spotify_csv_files/*.csv\"\n",
    "cap = glob.glob(path)"
   ]
  },
  {
   "cell_type": "code",
   "execution_count": 2,
   "metadata": {},
   "outputs": [
    {
     "name": "stdout",
     "output_type": "stream",
     "text": [
      "/Users/ruthmazurek/Desktop/flatiron_projects/Spotify/spotify-project/Spotify_csv_files\n"
     ]
    }
   ],
   "source": [
    "#get in the file with all the csv files\n",
    "cd Spotify_csv_files"
   ]
  },
  {
   "cell_type": "code",
   "execution_count": 3,
   "metadata": {},
   "outputs": [],
   "source": [
    "charts = [i.replace('/Users/ruthmazurek/Desktop/flatiron_projects/Spotify/spotify-project/Spotify_csv_files/',\"\") for i in cap]\n"
   ]
  },
  {
   "cell_type": "code",
   "execution_count": 4,
   "metadata": {},
   "outputs": [],
   "source": [
    "def get_ids(csv_name):\n",
    "    track_ids = []\n",
    "    chart = pd.read_csv(csv_name)\n",
    "    for i in range(1,len(chart)):\n",
    "        track = chart['Unnamed: 4'][i].split(\"/\")[4]\n",
    "        track_ids.append(track)\n",
    "    return track_ids"
   ]
  },
  {
   "cell_type": "code",
   "execution_count": 7,
   "metadata": {},
   "outputs": [],
   "source": [
    "all_ids = []\n",
    "for thing in charts:   \n",
    "    all_ids.extend(get_ids(thing))"
   ]
  },
  {
   "cell_type": "code",
   "execution_count": 8,
   "metadata": {},
   "outputs": [],
   "source": [
    "def get_artists(csv_name):\n",
    "    artist_spotify = []\n",
    "    chart = pd.read_csv(csv_name)\n",
    "    for i in range(1,len(chart)):\n",
    "        artist = chart['Unnamed: 2'][i]\n",
    "        artist_spotify.append(artist)\n",
    "    return artist_spotify"
   ]
  },
  {
   "cell_type": "code",
   "execution_count": 9,
   "metadata": {},
   "outputs": [],
   "source": [
    "all_artists = []\n",
    "for thing in charts:   \n",
    "    all_artists.extend(get_artists(thing))"
   ]
  },
  {
   "cell_type": "code",
   "execution_count": 10,
   "metadata": {},
   "outputs": [],
   "source": [
    "def get_names(csv_name):\n",
    "    names = []\n",
    "    chart = pd.read_csv(csv_name)\n",
    "    for i in range(1,len(chart)):\n",
    "        artist = chart['Unnamed: 1'][i]\n",
    "        names.append(artist)\n",
    "    return names"
   ]
  },
  {
   "cell_type": "code",
   "execution_count": 11,
   "metadata": {},
   "outputs": [],
   "source": [
    "all_names = []\n",
    "for thing in charts:   \n",
    "    all_names.extend(get_names(thing))"
   ]
  },
  {
   "cell_type": "code",
   "execution_count": 12,
   "metadata": {},
   "outputs": [],
   "source": [
    "def get_positions(csv_name):\n",
    "    positions = []\n",
    "    chart = pd.read_csv(csv_name)\n",
    "    for i in range(1,len(chart)):\n",
    "        position = chart['Unnamed: 0'][i]\n",
    "        positions.append(position)\n",
    "    return positions"
   ]
  },
  {
   "cell_type": "code",
   "execution_count": 13,
   "metadata": {},
   "outputs": [],
   "source": [
    "all_positions = []\n",
    "for thing in charts:   \n",
    "    all_positions.extend(get_positions(thing))"
   ]
  },
  {
   "cell_type": "code",
   "execution_count": 14,
   "metadata": {},
   "outputs": [],
   "source": [
    "def get_streams(csv_name):\n",
    "    streams = []\n",
    "    chart = pd.read_csv(csv_name)\n",
    "    for i in range(1,len(chart)):\n",
    "        stream = chart['Note that these figures are generated using a formula that protects against any artificial inflation of chart positions.'][i]\n",
    "        streams.append(stream)\n",
    "    return streams\n"
   ]
  },
  {
   "cell_type": "code",
   "execution_count": 15,
   "metadata": {},
   "outputs": [],
   "source": [
    "all_streams = []\n",
    "for thing in charts:   \n",
    "    all_streams.extend(get_streams(thing))"
   ]
  },
  {
   "cell_type": "code",
   "execution_count": 16,
   "metadata": {},
   "outputs": [],
   "source": [
    "week_numbers = []\n",
    "for i in range(0,155):\n",
    "    counter=200\n",
    "    while counter != 0:\n",
    "        week_numbers.append(i)\n",
    "        counter = counter-1"
   ]
  },
  {
   "cell_type": "code",
   "execution_count": 17,
   "metadata": {},
   "outputs": [],
   "source": [
    "#putting all the data in 1 tuple\n",
    "all_data = []\n",
    "for thing in range(0,len(all_names)):\n",
    "    new_tuple = (all_ids[thing], week_numbers[thing], int(all_positions[thing]), all_names[thing],\n",
    "                 all_artists[thing],int(all_streams[thing]))\n",
    "    all_data.append(new_tuple)"
   ]
  },
  {
   "cell_type": "code",
   "execution_count": null,
   "metadata": {},
   "outputs": [],
   "source": [
    "#dropping the nans from the data sets - there were around 4 out of 31,000 that needed to be dropped\n",
    "all_data_pandas=pd.DataFrame(all_data)\n",
    "all_data_pandas_clean=all_data_pandas.dropna()"
   ]
  },
  {
   "cell_type": "code",
   "execution_count": null,
   "metadata": {},
   "outputs": [],
   "source": [
    "#naming the columns\n",
    "all_data_pandas_clean.columns['id','week','rank','song','artist','strems']"
   ]
  },
  {
   "cell_type": "code",
   "execution_count": null,
   "metadata": {},
   "outputs": [],
   "source": [
    "#creating a new tuple with the dropped Nans\n",
    "all_data_dropna=tuple(all_data_pandas_clean.itertuples(index=False, name=None))"
   ]
  },
  {
   "cell_type": "code",
   "execution_count": null,
   "metadata": {},
   "outputs": [],
   "source": [
    "#inserting the tuple into the database\n",
    "import mysql.connector"
   ]
  },
  {
   "cell_type": "code",
   "execution_count": null,
   "metadata": {},
   "outputs": [],
   "source": [
    "import config_rob_database\n",
    "cnx = mysql.connector.connect(\n",
    "    host = config_rob_database.host,\n",
    "    user = config_rob_database.user,\n",
    "    passwd = config_rob_database.passwd)"
   ]
  },
  {
   "cell_type": "code",
   "execution_count": null,
   "metadata": {},
   "outputs": [],
   "source": [
    "cursor = cnx.cursor()\n",
    "cnx.database = 'spotify'"
   ]
  },
  {
   "cell_type": "code",
   "execution_count": null,
   "metadata": {},
   "outputs": [],
   "source": [
    "create_table_spotify = \"\"\"\n",
    "CREATE TABLE spotify_weekly\n",
    "(track_id VARCHAR(225),\n",
    "week_of VARCHAR(225),\n",
    "chart_position INT,\n",
    "track_name VARCHAR(225),\n",
    "artist VARCHAR(225),\n",
    "num_of_streams INT);\n",
    "\"\"\""
   ]
  },
  {
   "cell_type": "code",
   "execution_count": null,
   "metadata": {},
   "outputs": [],
   "source": [
    "cursor.execute(create_table_spotify)"
   ]
  },
  {
   "cell_type": "code",
   "execution_count": null,
   "metadata": {},
   "outputs": [],
   "source": [
    "insert_stm = \"\"\"INSERT INTO spotify_weekly (track_id, week_of, chart_position, track_name, artist,num_of_streams) \n",
    "    VALUES (%s, %s, %s, %s, %s, %s)\"\"\"\n",
    "cursor.executemany(insert_stm, all_data_dropna)\n",
    "cnx.commit()"
   ]
  },
  {
   "cell_type": "code",
   "execution_count": null,
   "metadata": {},
   "outputs": [],
   "source": [
    "#now using spotifys API and spotify to get data from spotify"
   ]
  },
  {
   "cell_type": "code",
   "execution_count": null,
   "metadata": {},
   "outputs": [],
   "source": [
    "import spotipy\n",
    "import spotipy.oauth2 as oauth2\n",
    "from spotipy.oauth2 import SpotifyClientCredentials"
   ]
  },
  {
   "cell_type": "code",
   "execution_count": null,
   "metadata": {},
   "outputs": [],
   "source": [
    "#general way to grab audio analysis using the song ID\n",
    "credentials = spotipy.oauth2.SpotifyClientCredentials(client_id='d1752e10625849959f530b56af4458e0', client_secret='057f9a3c8e584dbd9b6c27cf2a224963')\n",
    "spotify = spotipy.Spotify(client_credentials_manager=credentials)\n",
    "#'7qiZfU4dY1lWllzX7mPBI3' is a song ID\n",
    "print (spotify.audio_analysis('7qiZfU4dY1lWllzX7mPBI3'))"
   ]
  },
  {
   "cell_type": "code",
   "execution_count": null,
   "metadata": {},
   "outputs": [],
   "source": [
    "#general way to grab audio features using the song ID\n",
    "credentials = spotipy.oauth2.SpotifyClientCredentials(client_id='d1752e10625849959f530b56af4458e0', client_secret='057f9a3c8e584dbd9b6c27cf2a224963')\n",
    "spotify = spotipy.Spotify(client_credentials_manager=credentials)\n",
    "#'7qiZfU4dY1lWllzX7mPBI3' is a song ID\n",
    "print (spotify.audio_features(['7qiZfU4dY1lWllzX7mPBI3']))"
   ]
  },
  {
   "cell_type": "code",
   "execution_count": null,
   "metadata": {},
   "outputs": [],
   "source": [
    "#uses the list I made of all_ids - all the spotify song ids I want - and grabs all the audio features\n",
    "all_audio_features = []\n",
    "for thing in all_ids:\n",
    "    all_audio_features.append((spotify.audio_features([f'{thing}'])))"
   ]
  },
  {
   "cell_type": "code",
   "execution_count": null,
   "metadata": {},
   "outputs": [],
   "source": [
    "#uses the list I made of artists - uses the artists names - and grabs all the audio features\n",
    "artist_data = []\n",
    "for thing in all_artists:\n",
    "    artist_data.append((spotify.artists([f'{thing}'])))"
   ]
  },
  {
   "cell_type": "code",
   "execution_count": null,
   "metadata": {},
   "outputs": [],
   "source": []
  }
 ],
 "metadata": {
  "kernelspec": {
   "display_name": "Python 3",
   "language": "python",
   "name": "python3"
  },
  "language_info": {
   "codemirror_mode": {
    "name": "ipython",
    "version": 3
   },
   "file_extension": ".py",
   "mimetype": "text/x-python",
   "name": "python",
   "nbconvert_exporter": "python",
   "pygments_lexer": "ipython3",
   "version": "3.7.1"
  }
 },
 "nbformat": 4,
 "nbformat_minor": 2
}
