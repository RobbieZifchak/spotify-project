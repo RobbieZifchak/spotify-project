{
 "cells": [
  {
   "cell_type": "code",
   "execution_count": null,
   "metadata": {},
   "outputs": [],
   "source": [
    "import requests\n",
    "from bs4 import BeautifulSoup as BS\n",
    "import re\n",
    "\n",
    "def name_artist_func (url)\n",
    "\n",
    "    url = url\n",
    "\n",
    "    results = requests.get(url)\n",
    "\n",
    "    soup = BS(results.content, 'html.parser')\n",
    "\n",
    "    dirty_songs = soup.find_all('td', class_ = \"chart-table-track\")\n",
    "\n",
    "    songs = []\n",
    "    for ele in dirty_songs:\n",
    "        songs.append(ele.get_text(separator = ' '))\n",
    "\n",
    "    mylist = []\n",
    "    for song in songs:\n",
    "        mylist.append(song.strip().split('\\n'))\n",
    "\n",
    "    i=0\n",
    "    name=[]\n",
    "    artist=[]\n",
    "    for thing in mylist:\n",
    "            name.append(mylist[i][0])\n",
    "            artist.append(mylist[i][1])\n",
    "            i+=1"
   ]
  },
  {
   "cell_type": "code",
   "execution_count": 24,
   "metadata": {},
   "outputs": [],
   "source": [
    "def insert_date_url (year,month,day):\n",
    "    url=f'https://spotifycharts.com/regional/global/daily/{year}-{month}-{day}'\n",
    "    return url\n",
    "    \n"
   ]
  },
  {
   "cell_type": "code",
   "execution_count": null,
   "metadata": {},
   "outputs": [],
   "source": []
  },
  {
   "cell_type": "code",
   "execution_count": null,
   "metadata": {},
   "outputs": [],
   "source": []
  },
  {
   "cell_type": "code",
   "execution_count": 45,
   "metadata": {},
   "outputs": [],
   "source": [
    "days = []\n",
    "z=1\n",
    "i = 1\n",
    "while i <32:\n",
    "    if z ==12:\n",
    "        break\n",
    "    if i<10:\n",
    "        days.append(f'{0}{z},{0}{i},2017')\n",
    "        i+=1\n",
    "    if i <32:\n",
    "        days.append(f'{0}{z},{i},2017')\n",
    "        i+=1\n",
    "z+=1\n",
    "i=1"
   ]
  },
  {
   "cell_type": "code",
   "execution_count": 46,
   "metadata": {},
   "outputs": [
    {
     "data": {
      "text/plain": [
       "['01,01,2017',\n",
       " '01,2,2017',\n",
       " '01,03,2017',\n",
       " '01,4,2017',\n",
       " '01,05,2017',\n",
       " '01,6,2017',\n",
       " '01,07,2017',\n",
       " '01,8,2017',\n",
       " '01,09,2017',\n",
       " '01,10,2017',\n",
       " '01,11,2017',\n",
       " '01,12,2017',\n",
       " '01,13,2017',\n",
       " '01,14,2017',\n",
       " '01,15,2017',\n",
       " '01,16,2017',\n",
       " '01,17,2017',\n",
       " '01,18,2017',\n",
       " '01,19,2017',\n",
       " '01,20,2017',\n",
       " '01,21,2017',\n",
       " '01,22,2017',\n",
       " '01,23,2017',\n",
       " '01,24,2017',\n",
       " '01,25,2017',\n",
       " '01,26,2017',\n",
       " '01,27,2017',\n",
       " '01,28,2017',\n",
       " '01,29,2017',\n",
       " '01,30,2017',\n",
       " '01,31,2017']"
      ]
     },
     "execution_count": 46,
     "metadata": {},
     "output_type": "execute_result"
    }
   ],
   "source": [
    "days"
   ]
  },
  {
   "cell_type": "code",
   "execution_count": 43,
   "metadata": {},
   "outputs": [],
   "source": [
    "def create_days ():\n",
    "    days = []\n",
    "    i = 1\n",
    "    z = 1\n",
    "    while i <32:\n",
    "        if i<10:\n",
    "            days.append(f'{0}{z},{0}{i},2017')\n",
    "            i+=1\n",
    "        if i <32:\n",
    "            days.append(f'{0}{z},{i},2017')\n",
    "            i+=1\n",
    "        if i == 32: \n",
    "            z+=1\n",
    "            \n",
    "    \n"
   ]
  },
  {
   "cell_type": "code",
   "execution_count": 44,
   "metadata": {
    "collapsed": true
   },
   "outputs": [
    {
     "data": {
      "text/plain": [
       "['01,01,2017',\n",
       " '01,02,2017',\n",
       " '01,03,2017',\n",
       " '01,04,2017',\n",
       " '01,05,2017',\n",
       " '01,06,2017',\n",
       " '01,07,2017',\n",
       " '01,08,2017',\n",
       " '01,09,2017',\n",
       " '01,10,2017',\n",
       " '01,11,2017',\n",
       " '01,12,2017',\n",
       " '01,13,2017',\n",
       " '01,14,2017',\n",
       " '01,15,2017',\n",
       " '01,16,2017',\n",
       " '01,17,2017',\n",
       " '01,18,2017',\n",
       " '01,19,2017',\n",
       " '01,20,2017',\n",
       " '01,21,2017',\n",
       " '01,22,2017',\n",
       " '01,23,2017',\n",
       " '01,24,2017',\n",
       " '01,25,2017',\n",
       " '01,26,2017',\n",
       " '01,27,2017',\n",
       " '01,28,2017',\n",
       " '01,29,2017',\n",
       " '01,30,2017',\n",
       " '01,31,2017']"
      ]
     },
     "execution_count": 44,
     "metadata": {},
     "output_type": "execute_result"
    }
   ],
   "source": [
    "days"
   ]
  },
  {
   "cell_type": "code",
   "execution_count": null,
   "metadata": {},
   "outputs": [],
   "source": [
    "new_days\n",
    "for item in days:\n",
    "    "
   ]
  },
  {
   "cell_type": "code",
   "execution_count": 31,
   "metadata": {},
   "outputs": [
    {
     "ename": "TypeError",
     "evalue": "insert_date_url() missing 2 required positional arguments: 'month' and 'day'",
     "output_type": "error",
     "traceback": [
      "\u001b[0;31m---------------------------------------------------------------------------\u001b[0m",
      "\u001b[0;31mTypeError\u001b[0m                                 Traceback (most recent call last)",
      "\u001b[0;32m<ipython-input-31-5c16ce8fc988>\u001b[0m in \u001b[0;36m<module>\u001b[0;34m\u001b[0m\n\u001b[0;32m----> 1\u001b[0;31m \u001b[0minsert_date_url\u001b[0m \u001b[0;34m(\u001b[0m\u001b[0mdays\u001b[0m\u001b[0;34m[\u001b[0m\u001b[0;36m0\u001b[0m\u001b[0;34m]\u001b[0m\u001b[0;34m)\u001b[0m\u001b[0;34m\u001b[0m\u001b[0;34m\u001b[0m\u001b[0m\n\u001b[0m",
      "\u001b[0;31mTypeError\u001b[0m: insert_date_url() missing 2 required positional arguments: 'month' and 'day'"
     ]
    }
   ],
   "source": [
    "insert_date_url (days[0])"
   ]
  },
  {
   "cell_type": "code",
   "execution_count": null,
   "metadata": {},
   "outputs": [],
   "source": []
  }
 ],
 "metadata": {
  "kernelspec": {
   "display_name": "Python 3",
   "language": "python",
   "name": "python3"
  },
  "language_info": {
   "codemirror_mode": {
    "name": "ipython",
    "version": 3
   },
   "file_extension": ".py",
   "mimetype": "text/x-python",
   "name": "python",
   "nbconvert_exporter": "python",
   "pygments_lexer": "ipython3",
   "version": "3.7.1"
  }
 },
 "nbformat": 4,
 "nbformat_minor": 2
}
